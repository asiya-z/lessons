{
  "nbformat": 4,
  "nbformat_minor": 0,
  "metadata": {
    "colab": {
      "name": "Untitled10.ipynb",
      "version": "0.3.2",
      "provenance": [],
      "collapsed_sections": []
    },
    "kernelspec": {
      "name": "python3",
      "display_name": "Python 3"
    }
  },
  "cells": [
    {
      "metadata": {
        "id": "kV7j0uX4QVtW",
        "colab_type": "text"
      },
      "cell_type": "markdown",
      "source": [
        "# Частные производные\n",
        "На прошлой лекции мы рассмотрели некоторые способы поиска минимума функции от нескольких параметров. Все они требовали вычисления производных. \n",
        "Производная от функции, зависящей от нескольких параметров, по одному называется - частной производной.\n",
        "\n",
        "Расмотрим функцию $f(x_1, x_2, \\ldots x_n)=f(\\vec{x})$. \n",
        "\n",
        "Тогда частная производная по переменной $x_1$ обозначается \n",
        "\n",
        "$$\\frac{\\partial f(\\vec{x})}{\\partial x_1}$$\n",
        "\n",
        "Аналогично записываются переменные по остальным переменным:\n",
        "\n",
        "$$\\frac{\\partial f(\\vec{x})}{\\partial x_2},\\; \\ldots,\\; \\frac{\\partial f(\\vec{x})}{\\partial x_n}$$\n",
        "\n",
        "Основное отличие частной производной от \"обычной\" - при вычислении частной производной по переменной $z$ мы считаем все остальные переменные константами. \n",
        "\n",
        "В остальном действуют те же правила, что и при вычислении производных от одной переменной.\n",
        "\n",
        "\n",
        "###Примеры вычисления частных производных\n",
        "*  ** Функция от двух переменных №1**                                                                                                                    \n",
        "    $$f(x,y)=5y^3+x^2$$\n",
        "    \n",
        "    $$\\frac{\\partial f(x, y)}{\\partial x}=\\frac{\\partial (x^2+5y^3)}{\\partial x}=\\frac{\\partial x^2}{\\partial x}+\\frac{\\partial 5y^3}{\\partial x}=2x+0=2x$$\n",
        "    Здесь мы учли, что второе слагаемое не содержит $x$, а значит является просто константой.\n",
        "    \n",
        "    **Задание** \n",
        "    \n",
        "    Вычислить\n",
        "    $$\\frac{\\partial f(x, y)}{\\partial y}$$\n",
        "    \n",
        "\n",
        "\n",
        "*  ** Функция от двух переменных №2**\n",
        "    $$f(x,y)=3\\cdot \\tan(x\\cdot y)\\cdot \\cos(x^2)$$\n",
        "    \n",
        "    $$\\frac{\\partial f(x,y)}{\\partial y}=\\frac{\\partial (3\\cdot \\tan(x\\cdot y)\\cdot \\cos(x^2))}{\\partial y}=3\\cdot \\cos(x^2)\\cdot \\frac{\\partial \\tan(x\\cdot y)}{\\partial y}=$$\n",
        "    \n",
        "    $$=3\\cdot \\cos(x^2)\\cdot \\frac{1}{\\cos^2(x\\cdot y)}\\cdot \\frac{\\partial (x\\cdot y)}{\\partial y}=3\\cdot \\cos(x^2)\\cdot \\frac{x}{\\cos^2(x\\cdot y)}$$\n",
        "    **Задание** \n",
        "    \n",
        "    Вычислить\n",
        "    $$\\frac{\\partial f(x, y)}{\\partial x}$$\n",
        "\n",
        "\n",
        "    \n",
        "##Градиент\n",
        "Для удобства все производные обединяют в вектор, который называется градиентом функции:\n",
        "\n",
        "$$grad(f) =\\vec{\\nabla}f =(\\frac{\\partial f(\\vec{x})}{\\partial x_1},\\; \\ldots,\\; \\frac{\\partial f(\\vec{x})}{\\partial x_n})$$\n",
        "\n",
        "Такой вектор показывает направление быстрейшего возрастания функции:\n",
        "    \n",
        "\n"
      ]
    },
    {
      "metadata": {
        "id": "BXXTRv-zQU-r",
        "colab_type": "code",
        "colab": {}
      },
      "cell_type": "code",
      "source": [
        ""
      ],
      "execution_count": 0,
      "outputs": []
    }
  ]
}