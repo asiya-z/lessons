{
  "nbformat": 4,
  "nbformat_minor": 0,
  "metadata": {
    "colab": {
      "name": "gradient_descent.ipynb",
      "version": "0.3.2",
      "provenance": [],
      "collapsed_sections": []
    },
    "kernelspec": {
      "name": "python3",
      "display_name": "Python 3"
    }
  },
  "cells": [
    {
      "metadata": {
        "id": "kV7j0uX4QVtW",
        "colab_type": "text"
      },
      "cell_type": "markdown",
      "source": [
        "# Частные производные\n",
        "На прошлой лекции мы рассмотрели некоторые способы поиска минимума функции от нескольких параметров. Все они требовали вычисления производных. \n",
        "Производная от функции, зависящей от нескольких параметров, по одному называется - частной производной.\n",
        "\n",
        "Расмотрим функцию $f(x_1, x_2, \\ldots x_n)=f(\\vec{x})$. \n",
        "\n",
        "Тогда частная производная по переменной $x_1$ обозначается \n",
        "\n",
        "$$\\frac{\\partial f(\\vec{x})}{\\partial x_1}$$\n",
        "\n",
        "Аналогично записываются переменные по остальным переменным:\n",
        "\n",
        "$$\\frac{\\partial f(\\vec{x})}{\\partial x_2},\\; \\ldots,\\; \\frac{\\partial f(\\vec{x})}{\\partial x_n}$$\n",
        "\n",
        "Основное отличие частной производной от \"обычной\" - при вычислении частной производной по переменной $z$ мы считаем все остальные переменные константами. \n",
        "\n",
        "В остальном действуют те же правила, что и при вычислении производных от одной переменной.\n",
        "\n",
        "\n",
        "###Примеры вычисления частных производных\n",
        "*  ** Функция от двух переменных №1**                                                                                                                    \n",
        "    $$f(x,y)=5y^3+x^2$$\n",
        "    \n",
        "    $$\\frac{\\partial f(x, y)}{\\partial x}=\\frac{\\partial (x^2+5y^3)}{\\partial x}=\\frac{\\partial x^2}{\\partial x}+\\frac{\\partial 5y^3}{\\partial x}=2x+0=2x$$\n",
        "    Здесь мы учли, что второе слагаемое не содержит $x$, а значит является просто константой.\n",
        "    \n",
        "    **Задание** \n",
        "    \n",
        "    Вычислить\n",
        "    $$\\frac{\\partial f(x, y)}{\\partial y}$$\n",
        "    \n",
        "\n",
        "\n",
        "*  ** Функция от двух переменных №2**\n",
        "    $$f(x,y)=3\\cdot \\tan(x\\cdot y)\\cdot \\cos(x^2)$$\n",
        "    \n",
        "    $$\\frac{\\partial f(x,y)}{\\partial y}=\\frac{\\partial (3\\cdot \\tan(x\\cdot y)\\cdot \\cos(x^2))}{\\partial y}=3\\cdot \\cos(x^2)\\cdot \\frac{\\partial \\tan(x\\cdot y)}{\\partial y}=$$\n",
        "    \n",
        "    $$=3\\cdot \\cos(x^2)\\cdot \\frac{1}{\\cos^2(x\\cdot y)}\\cdot \\frac{\\partial (x\\cdot y)}{\\partial y}=3\\cdot \\cos(x^2)\\cdot \\frac{x}{\\cos^2(x\\cdot y)}$$\n",
        "    **Задание** \n",
        "    \n",
        "    Вычислить\n",
        "    $$\\frac{\\partial f(x, y)}{\\partial x}$$\n",
        "\n",
        "При решении заданий может пригодится  [таблица производных](https://ru.wikipedia.org/wiki/Таблица_производных)\n",
        "    \n",
        "##Градиент\n",
        "Для удобства все производные обединяют в вектор, который называется градиентом функции:\n",
        "\n",
        "$$grad(f(\\vec{x})) =\\vec{\\nabla}f(\\vec{x}) =(\\frac{\\partial f(\\vec{x})}{\\partial x_1},\\; \\ldots,\\; \\frac{\\partial f(\\vec{x})}{\\partial x_n})$$\n",
        "\n",
        "Такой вектор показывает направление быстрейшего возрастания функции:\n",
        " ![alt text](https://raw.githubusercontent.com/mlforschool/lessons/master/4%20Gradient%20Descent/images/gradient-direction.png)\n",
        " https://www.learnopencv.com/understanding-activation-functions-in-deep-learning/\n",
        " \n",
        "##Градиентный спуск\n",
        "\n",
        "Если мы возьмем вектор градиента с минусом:\n",
        "$$-\\vec{\\nabla}f(\\vec{x})$$\n",
        "то он будет указывать направление, в котором функция убывает быстрее всего.\n",
        "\n",
        "Для поиска минимума функции надо сделать шаг в направлении, которое указывает $-\\vec{\\nabla}f(\\vec{x})$. Какого размера шаг можно сделать?\n",
        "\n",
        "Производные и градиент определяют свойства функции только рядом с той точкой, в которой мы их посчитали. Поэтому шаг должен быть маленьким. При большой величине шага могут возникнуть \"проблемы\":\n",
        "\n",
        "![alt text](https://raw.githubusercontent.com/mlforschool/lessons/master/4%20Gradient%20Descent/images/large_steps.png)\n",
        "http://www.cs.cornell.edu/courses/cs4780/2018fa/lectures/lecturenote07.html\n",
        "\n",
        "Размер шага мы определяем параметром $\\alpha$:\n",
        "\n",
        "$$x_1^i=x_1^{i-1}-\\alpha\\cdot\\frac{\\partial f(\\vec{x}^{i-1})}{\\partial x_1}$$\n",
        "\n",
        "Аналогичные выражения мы можем записать и для всех остальных переменных.\n",
        "$$x_2^i=x_2^{i-1}-\\alpha\\cdot\\frac{\\partial f(\\vec{x}^{i-1})}{\\partial x_2}$$\n",
        "$$x_3^i=x_3^{i-1}-\\alpha\\cdot\\frac{\\partial f(\\vec{x}^{i-1})}{\\partial x_3}$$\n",
        "$$\\ldots$$\n",
        "\n",
        "Для удобства мы можем перейти к векторной записи:\n",
        "$$\\vec{x}^{i}=\\vec{x}^{i-1}-\\alpha\\cdot\\vec{\\nabla} f(\\vec{x}^{i-1})$$\n",
        "\n",
        "Здесь подразумевается поэлементное вычитание векторов.\n",
        "\n",
        "После нескольких шагов при правильном размере шага, алгоритм достигнет окрестности локального минимума:![alt text](https://raw.githubusercontent.com/mlforschool/lessons/master/4%20Gradient%20Descent/images/gradient-descent.png)\n",
        "https://link.medium.com/fCTb5CuLPU"
      ]
    },
    {
      "metadata": {
        "id": "risFc0gXkg1L",
        "colab_type": "text"
      },
      "cell_type": "markdown",
      "source": [
        "Как нам определить, когда мы оказались в окрестности локального минимума?\n",
        "\n",
        "Критерий остановки:\n",
        "$$|f(\\vec{x}^{i})-f(\\vec{x}^{i-1})|<\\epsilon$$\n",
        "где $\\epsilon$ - заранее заданный малый параметр.\n",
        "\n",
        "В итоге алгоритм может быть сформулирован следующим образом:\n",
        "\n",
        "\n",
        "\n",
        "1.   Задать начальные значения всех переменных: $\\vec{x}^0$\n",
        "2.   Выполнить шаг градиентного спуска:\n",
        "\n",
        "    $\\vec{x}^{i}=\\vec{x}^{i-1}-\\alpha\\cdot\\vec{\\nabla} f(\\vec{x}^{i-1})$\n",
        "3. Проверить критерий остановки:\n",
        "    $|f(\\vec{x}^{i})-f(\\vec{x}^{i-1})|<\\epsilon$\n",
        "    \n",
        "    Если он невыполнен, то перейти на шаг 2, иначе завершить алгоритм.\n",
        "\n",
        "В некоторых случаях алгоритм с таким критерием может не сойтись. Такое возможно, например, если выбрано слишком большое значение параметра $\\alpha$ или функция f \"плохая\". В таком случае алгоритм останавливается на заданном шаге.\n",
        " "
      ]
    },
    {
      "metadata": {
        "id": "S6NridXPoofM",
        "colab_type": "text"
      },
      "cell_type": "markdown",
      "source": [
        "Напишем реализацию алгоритма градиентного спуска."
      ]
    },
    {
      "metadata": {
        "id": "7bYxpCGHzJkZ",
        "colab_type": "code",
        "colab": {}
      },
      "cell_type": "code",
      "source": [
        "# подключаем библиотеки для построения графиков\n",
        "from mpl_toolkits.mplot3d import Axes3D\n",
        "import matplotlib.pyplot as plt\n",
        "from matplotlib import cm\n",
        "import numpy as np"
      ],
      "execution_count": 0,
      "outputs": []
    },
    {
      "metadata": {
        "id": "BXXTRv-zQU-r",
        "colab_type": "code",
        "colab": {}
      },
      "cell_type": "code",
      "source": [
        "def gradient_descent(initial_point, alpha=0.01, epsilon=10**-7, max_step=100,\n",
        "                     f=f, grad_f=grad_f):\n",
        "    # массивы для хранения пути\n",
        "    x_points = []\n",
        "    y_points = []\n",
        "    \n",
        "    # начальная точка\n",
        "    cur_x, cur_y = initial_point\n",
        "    cur_step = 0\n",
        "    # сохраняем текущую точку для отображения пути\n",
        "    x_points.append(cur_x)\n",
        "    y_points.append(cur_y)\n",
        "    \n",
        "    next_step = True\n",
        "    while next_step and cur_step < max_step:\n",
        "        # номер шага\n",
        "        cur_step += 1\n",
        "        # на новом шаге текущая точка становится предыдущей\n",
        "        previous_x, previous_y = cur_x, cur_y\n",
        "        \n",
        "        # вычисляем производные\n",
        "        dfx, dfy = grad_f(previous_x, previous_y)\n",
        "        \n",
        "        # вычиcляем новые точки\n",
        "        cur_x = previous_x - alpha * dfx\n",
        "        cur_y = previous_y - alpha * dfy\n",
        "        \n",
        "        # сохраняем текущую точку для отображения пути\n",
        "        x_points.append(cur_x)\n",
        "        y_points.append(cur_y)\n",
        "        \n",
        "        \n",
        "        #print(abs(f(cur_x, cur_y) - f(previous_x, previous_y)))\n",
        "        # проеряем критерий остановки\n",
        "        if abs(f(cur_x, cur_y) - f(previous_x, previous_y)) < epsilon:\n",
        "            next_step = False\n",
        "    return x_points, y_points, cur_step"
      ],
      "execution_count": 0,
      "outputs": []
    },
    {
      "metadata": {
        "id": "RphzuMCXov-T",
        "colab_type": "code",
        "colab": {}
      },
      "cell_type": "code",
      "source": [
        "# строит график функции, и градиентного спуска, можно задавать функцию\n",
        "def plot_path(x_position, y_position, angle_1=45, angle_2=45, f=f):\n",
        "    fig = plt.figure()\n",
        "    ax = fig.gca(projection='3d')\n",
        "    ax.view_init(angle_1, angle_2)\n",
        "\n",
        "    # Создаем массив точек, в которых мы вычислим функцию ошибки\n",
        "    X = np.arange(-5, 5, 0.25)\n",
        "    Y = np.arange(-5, 5, 0.25)\n",
        "    X, Y = np.meshgrid(X, Y)\n",
        "\n",
        "    # Настраиваем ось Z \n",
        "    ax.set_zlim(0.01, 10.)\n",
        "\n",
        "    # Вычисляем значения функции ошибки\n",
        "    Z = f(X,Y)\n",
        "    \n",
        "    # Выводим поверхность функции ошибки\n",
        "    surf = ax.plot_surface(X, Y, Z, cmap=cm.coolwarm,\n",
        "                           linewidth=0, antialiased=False)\n",
        "    \n",
        "    # Добавляем цветовую шкалу\n",
        "    fig.colorbar(surf, shrink=0.5, aspect=5)\n",
        "    \n",
        "    # Преобразуем исходные координаты в массивы numpy\n",
        "    xx = np.array(x_position)\n",
        "    yy = np.array(y_position)\n",
        "    \n",
        "    # Вычисляем функцию ошибки в точках градиентного спуска\n",
        "    zz = f(xx, yy)\n",
        "    \n",
        "    # График градиентного спуска\n",
        "    ax.plot(xx, yy, zz, 'ro-', alpha=0.5) # note the 'ro' (no '-') and the alpha\n",
        "    \n",
        "    # Показываем все графики\n",
        "    plt.show()"
      ],
      "execution_count": 0,
      "outputs": []
    },
    {
      "metadata": {
        "id": "QSj9oCNT4_JK",
        "colab_type": "code",
        "colab": {}
      },
      "cell_type": "code",
      "source": [
        "# зададим функцию\n",
        "def f(x, y):\n",
        "    return 0.2*(x**2+y**2)\n",
        "\n",
        "# и ее производные \n",
        "def grad_f(x, y):\n",
        "    return 0.4*x, 0.4*y\n",
        "\n",
        "# другая функция\n",
        "def f2(x, y):\n",
        "    return 0.1*(3*x**2+y**2)\n",
        "# и ее производные\n",
        "def grad_f2(x, y):\n",
        "    return 0.6*x, 0.2*y"
      ],
      "execution_count": 0,
      "outputs": []
    },
    {
      "metadata": {
        "id": "y8P3csy7vtb1",
        "colab_type": "code",
        "colab": {}
      },
      "cell_type": "code",
      "source": [
        "# Начальная точка\n",
        "initial_point = (1, 4)\n",
        "\n",
        "# Градиентный спуск, передаем функцию и производные в качестве параматров\n",
        "x_points, y_points, cur_step = gradient_descent(initial_point,alpha=0.1,\n",
        "                                                f=f2, grad_f=grad_f2)"
      ],
      "execution_count": 0,
      "outputs": []
    },
    {
      "metadata": {
        "id": "UUQrUpgDX65L",
        "colab_type": "code",
        "colab": {
          "base_uri": "https://localhost:8080/",
          "height": 347
        },
        "outputId": "c1166258-2a2a-495a-8123-425691c33582"
      },
      "cell_type": "code",
      "source": [
        "print(\"Количество шагов:\", cur_step)\n",
        "plot_path(x_points, y_points, angle_1=65, angle_2=10, f=f2 )"
      ],
      "execution_count": 53,
      "outputs": [
        {
          "output_type": "stream",
          "text": [
            "Количество шагов: 17\n"
          ],
          "name": "stdout"
        },
        {
          "output_type": "display_data",
          "data": {
            "image/png": "[encoded data removed]",
            "text/plain": [
              "<Figure size 576x396 with 2 Axes>"
            ]
          },
          "metadata": {
            "tags": []
          }
        }
      ]
    },
    {
      "metadata": {
        "id": "u9rPK9BQzmjT",
        "colab_type": "text"
      },
      "cell_type": "markdown",
      "source": [
        "**Задание**\n",
        "* Выбрать (на свой вкус) параметры $a$ и $b$ ($a\\ne b$)для функции $f(x,y)=a\\cdot x^2+b\\cdot y^2$. Либо можно выбрать собственную функцию, у которой есть локальный минимум. \n",
        "\n",
        "* Для выбранной функции написать на python две функции, которые возвращают значение функции и ее частные производные. \n",
        "\n",
        "* Затем выбрать начальную точку и определить наилучшее значение параметра $\\alpha$: значение, при котором градиентный спуск сходится за наименьшее количество шагов. Показать, что при \"соседних\" значениях параметра $\\alpha$ спуск идет дольше. Чаще всего значания  параметра $\\alpha$ перебирают из следующего ряда: [0.001, 0.003, 0.01, 0.03, 0.1, 0.3, 1]. При необходимости его продолжить в каждую сторону.\n",
        "* Определить минимальное значение параметра $\\alpha$, при котором градиентный спуск расходится."
      ]
    },
    {
      "metadata": {
        "id": "zklrKZTAysAp",
        "colab_type": "code",
        "colab": {}
      },
      "cell_type": "code",
      "source": [
        ""
      ],
      "execution_count": 0,
      "outputs": []
    }
  ]
}