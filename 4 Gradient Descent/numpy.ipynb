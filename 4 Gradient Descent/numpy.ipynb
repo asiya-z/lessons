{
  "nbformat": 4,
  "nbformat_minor": 0,
  "metadata": {
    "colab": {
      "name": "numpy.ipynb",
      "version": "0.3.2",
      "provenance": [],
      "collapsed_sections": []
    },
    "kernelspec": {
      "name": "python3",
      "display_name": "Python 3"
    }
  },
  "cells": [
    {
      "metadata": {
        "id": "EwKb9zSg5pIX",
        "colab_type": "text"
      },
      "cell_type": "markdown",
      "source": [
        "#Введение в Numpy\n",
        "\n",
        "На лекции мы рассмотрели функцию потерь для линнейной регрессии:\n",
        "$$L_\\text{общ}=\\frac{\\sum_{i=1}^N(\\omega_1\\cdot x_1^i+\\omega_2\\cdot x_2^i+\\ldots+\\omega_k\\cdot x_k^i+b-y_i^*)^2}{N}$$\n",
        "\n",
        "Записать такую функцию явно может быть не очень удобно. \n",
        "\n",
        "Давайте разделим ее на части.\n",
        "\n",
        "Рассмотрим одно слагаемое:\n",
        "$$(\\omega_1\\cdot x_1^i+\\omega_2\\cdot x_2^i+\\ldots+\\omega_k\\cdot x_k^i+b-y_i^*)^2$$\n",
        "\n",
        "Первое, что нужно сделать вычислить:\n",
        "$$\\omega_1\\cdot x_1^i+\\omega_2\\cdot x_2^i+\\ldots+\\omega_k\\cdot x_k^i$$\n",
        "\n",
        "Это выражение напоминает нам скалярное произведение, потому мы можем записать его как:\n",
        "$$\\vec{x}^i\\cdot \\vec{\\omega}$$"
      ]
    },
    {
      "metadata": {
        "id": "wcpErCjTEMyn",
        "colab_type": "text"
      },
      "cell_type": "markdown",
      "source": [
        "Для удобной работы с векторами и матрицами существует специальная библиотека numpy"
      ]
    },
    {
      "metadata": {
        "id": "nzGejCwt5tBR",
        "colab_type": "code",
        "colab": {}
      },
      "cell_type": "code",
      "source": [
        "# подключение и стандартное сокращение\n",
        "import numpy as np "
      ],
      "execution_count": 0,
      "outputs": []
    },
    {
      "metadata": {
        "id": "udeK5G5BEYVD",
        "colab_type": "code",
        "colab": {
          "base_uri": "https://localhost:8080/",
          "height": 140
        },
        "outputId": "baf9f0e3-9f81-4447-cf60-adc6309cfd75"
      },
      "cell_type": "code",
      "source": [
        "a = np.array([1, 2, 3])   # Создает одномерный массив - вектор из обычного массива\n",
        "print(type(a))            # Выводит тип \"<class 'numpy.ndarray'>\"\n",
        "print(a.shape)            # Выводит форму массива \"(3,)\"\n",
        "print(a[0], a[1], a[2])   # Выводит элементы \"1 2 3\"\n",
        "a[0] = 5                  # Работа с элементами, как и в случае обычных массивов\n",
        "print(a)                  # Выодит обновленный массив \"[5, 2, 3]\"\n",
        "\n",
        "b = np.array([[1,2,3],[4,5,6]])    # Создаем массив размерности 2 \n",
        "print(b.shape)                     # Выводит \"(2, 3)\", в массиве 2 строки и 3 столбца\n",
        "print(b[0, 0], b[0, 1], b[1, 0])   # Выводит \"1 2 4\"\n",
        "\n",
        "c = np.arange(10)         # создает массив\n",
        "print(c)                  # выводит [0 1 2 3 4 5 6 7 8 9]"
      ],
      "execution_count": 12,
      "outputs": [
        {
          "output_type": "stream",
          "text": [
            "<class 'numpy.ndarray'>\n",
            "(3,)\n",
            "1 2 3\n",
            "[5 2 3]\n",
            "(2, 3)\n",
            "1 2 4\n",
            "[0 1 2 3 4 5 6 7 8 9]\n"
          ],
          "name": "stdout"
        }
      ]
    },
    {
      "metadata": {
        "id": "7LUOBqkUFH2N",
        "colab_type": "text"
      },
      "cell_type": "markdown",
      "source": [
        "Если перед командой поставить специалный оператор \"%time\", то он покажет время выполнения"
      ]
    },
    {
      "metadata": {
        "id": "f2GYjz4DFGNA",
        "colab_type": "code",
        "colab": {
          "base_uri": "https://localhost:8080/",
          "height": 87
        },
        "outputId": "bb7cebb8-4554-444b-d01b-0be4bb13b152"
      },
      "cell_type": "code",
      "source": [
        "#сравним\n",
        "%time classic = list(range(10**7))\n",
        "%time np_list = np.arange(10**7)"
      ],
      "execution_count": 13,
      "outputs": [
        {
          "output_type": "stream",
          "text": [
            "CPU times: user 165 ms, sys: 595 ms, total: 760 ms\n",
            "Wall time: 756 ms\n",
            "CPU times: user 9.02 ms, sys: 179 ms, total: 188 ms\n",
            "Wall time: 191 ms\n"
          ],
          "name": "stdout"
        }
      ]
    },
    {
      "metadata": {
        "id": "pZJHnZGJCXll",
        "colab_type": "code",
        "colab": {
          "base_uri": "https://localhost:8080/",
          "height": 193
        },
        "outputId": "87f7e813-b896-4c96-c3f0-18702735339d"
      },
      "cell_type": "code",
      "source": [
        "# Различные способы создать массив\n",
        "\n",
        "a = np.zeros((2,2))   # Создает массив 2x2, заполненный нулями\n",
        "print(a)              # Выводит \"[[ 0.  0.]\n",
        "                      #          [ 0.  0.]]\"\n",
        "\n",
        "b = np.ones((1,2))    # Создает массив 1x2, заполненный единицами\n",
        "print(b)              # Выводит \"[[ 1.  1.]]\"\n",
        "\n",
        "c = np.full((3,2), 7)  # Создает массив 3x2, заполненный константой\n",
        "print(c)               # Выводит \"[[ 7.  7.]\n",
        "                       #          [ 7.  7.]\n",
        "                       #          [ 7.  7.]]\"\n",
        "    \n",
        "\n",
        "d = np.eye(2)         # Создает матрицу 2x2 с единицами на диагонали \n",
        "                      # \"сверху слева-> вниз направо\"\n",
        "print(d)              # Выводит \"[[ 1.  0.]\n",
        "                      #          [ 0.  1.]]\"\n",
        "\n",
        "e = np.random.random((2,2))  # Заполняет массив 2x2 случаными числами \n",
        "print(e)                     # Может вывести \"[[ 0.91940167  0.08143941]\n",
        "                             #               [ 0.68744134  0.87236687]]\""
      ],
      "execution_count": 15,
      "outputs": [
        {
          "output_type": "stream",
          "text": [
            "[[0. 0.]\n",
            " [0. 0.]]\n",
            "[[1. 1.]]\n",
            "[[7 7]\n",
            " [7 7]\n",
            " [7 7]]\n",
            "[[1. 0.]\n",
            " [0. 1.]]\n",
            "[[0.46846994 0.71958557]\n",
            " [0.33418822 0.45785633]]\n"
          ],
          "name": "stdout"
        }
      ]
    },
    {
      "metadata": {
        "id": "2Q1nM1CcCh_j",
        "colab_type": "code",
        "colab": {
          "base_uri": "https://localhost:8080/",
          "height": 52
        },
        "outputId": "56358d0c-8228-4a05-93f8-bc54803fd169"
      },
      "cell_type": "code",
      "source": [
        "# Create the following rank 2 array with shape (3, 4)\n",
        "# [[ 1  2  3  4]\n",
        "#  [ 5  6  7  8]\n",
        "#  [ 9 10 11 12]]\n",
        "a = np.array([[1,2,3,4], [5,6,7,8], [9,10,11,12]])\n",
        "\n",
        "# Use slicing to pull out the subarray consisting of the first 2 rows\n",
        "# and columns 1 and 2; b is the following array of shape (2, 2):\n",
        "# [[2 3]\n",
        "#  [6 7]]\n",
        "b = a[:2, 1:3]\n",
        "\n",
        "# A slice of an array is a view into the same data, so modifying it\n",
        "# will modify the original array.\n",
        "print(a[0, 1])   # Prints \"2\"\n",
        "b[0, 0] = 77     # b[0, 0] is the same piece of data as a[0, 1]\n",
        "print(a[0, 1])   # Prints \"77\""
      ],
      "execution_count": 6,
      "outputs": [
        {
          "output_type": "stream",
          "text": [
            "CPU times: user 2 µs, sys: 1 µs, total: 3 µs\n",
            "Wall time: 5.48 µs\n"
          ],
          "name": "stdout"
        }
      ]
    },
    {
      "metadata": {
        "id": "bzwU827zHw8q",
        "colab_type": "text"
      },
      "cell_type": "markdown",
      "source": [
        "#Операции над массивами\n",
        "**Поэлементные операции**"
      ]
    },
    {
      "metadata": {
        "id": "9Vh8RrBWDWHg",
        "colab_type": "code",
        "colab": {}
      },
      "cell_type": "code",
      "source": [
        "x = np.array([[1,2],[3,4]], dtype=np.float64)\n",
        "y = np.array([[5,6],[7,8]], dtype=np.float64)\n",
        "\n",
        "# Поэлементное сложение\n",
        "# [[ 6.0  8.0]\n",
        "#  [10.0 12.0]]\n",
        "print(x + y)\n",
        "print(np.add(x, y))\n",
        "\n",
        "# Поэлементное вычитание\n",
        "# [[-4.0 -4.0]\n",
        "#  [-4.0 -4.0]]\n",
        "print(x - y)\n",
        "print(np.subtract(x, y))\n",
        "\n",
        "# Поэлементное умножение\n",
        "# [[ 5.0 12.0]\n",
        "#  [21.0 32.0]]\n",
        "print(x * y)\n",
        "print(np.multiply(x, y))\n",
        "\n",
        "# Поэлементное деление\n",
        "# [[ 0.2         0.33333333]\n",
        "#  [ 0.42857143  0.5       ]]\n",
        "print(x / y)\n",
        "print(np.divide(x, y))\n",
        "\n",
        "# Поэлементное извлечение квадратного корня\n",
        "# [[ 1.          1.41421356]\n",
        "#  [ 1.73205081  2.        ]]\n",
        "print(np.sqrt(x))"
      ],
      "execution_count": 0,
      "outputs": []
    },
    {
      "metadata": {
        "id": "gdxDsH3TIPV5",
        "colab_type": "text"
      },
      "cell_type": "markdown",
      "source": [
        "**Умножение вектора на вектор и матрицы на вектор**"
      ]
    },
    {
      "metadata": {
        "id": "qM2WRbRYIVIm",
        "colab_type": "code",
        "colab": {}
      },
      "cell_type": "code",
      "source": [
        "x = np.array([[1,2],[3,4]])\n",
        "y = np.array([[5,6],[7,8]])\n",
        "\n",
        "v = np.array([9,10])\n",
        "w = np.array([11, 12])\n",
        "\n",
        "# Скалярное произведение векторов; ответ 219\n",
        "print(v.dot(w))\n",
        "print(np.dot(v, w))\n",
        "\n",
        "# Умножение матрицы на вектор; в результате получаем вектор [29 67]\n",
        "print(x.dot(v))\n",
        "print(np.dot(x, v))\n",
        "\n",
        "# Умножение матрицы на матрицу; в результате получается матрица\n",
        "# [[19 22]\n",
        "#  [43 50]]\n",
        "print(x.dot(y))\n",
        "print(np.dot(x, y))"
      ],
      "execution_count": 0,
      "outputs": []
    },
    {
      "metadata": {
        "id": "wZcXlHo9PQ7t",
        "colab_type": "text"
      },
      "cell_type": "markdown",
      "source": [
        "**Объединение матриц и векторов**\n",
        "\n",
        "При необходимости можно добавить к матрице вектор как новый столбец или новую строку:"
      ]
    },
    {
      "metadata": {
        "id": "23MYaFHmPfSM",
        "colab_type": "code",
        "colab": {
          "base_uri": "https://localhost:8080/",
          "height": 228
        },
        "outputId": "30163d46-fab9-4085-a53a-fc2c6fd4df52"
      },
      "cell_type": "code",
      "source": [
        "x = np.array([[1,2,3], [4,5,6], [7,8,9]])\n",
        "v = np.array([1, 0, 1])\n",
        "\n",
        "# Добавляем v как столбец\n",
        "# параметры указываются как один кортеж,\n",
        "# то есть в дополнительных скобках через запятую\n",
        "res = np.column_stack((x,v))\n",
        "print(res) # выводит: \"[[1 2 3 1]\n",
        "           #            [4 5 6 0]\n",
        "           #            [7 8 9 1]]\"\n",
        "        \n",
        "# Добавляем v как строку\n",
        "# параметры указываются как один кортеж,\n",
        "# то есть в дополнительных скобках через запятую\n",
        "\n",
        "res = np.row_stack((x,v))\n",
        "print(res) # выводит: \"[[1 2 3]\n",
        "           #            [4 5 6]\n",
        "           #            [7 8 9]\n",
        "           #            [1 0 1]]\"\n",
        "\n",
        "# Добавляем v несколько раз\n",
        "res = np.row_stack((v,x,v))\n",
        "print(res) # выводит: \"[[1 0 1]\n",
        "           #            [1 2 3]\n",
        "           #            [4 5 6]\n",
        "           #            [7 8 9]\n",
        "           #            [1 0 1]]\""
      ],
      "execution_count": 21,
      "outputs": [
        {
          "output_type": "stream",
          "text": [
            "[[1 2 3 1]\n",
            " [4 5 6 0]\n",
            " [7 8 9 1]]\n",
            "[[1 2 3]\n",
            " [4 5 6]\n",
            " [7 8 9]\n",
            " [1 0 1]]\n",
            "[[1 0 1]\n",
            " [1 2 3]\n",
            " [4 5 6]\n",
            " [7 8 9]\n",
            " [1 0 1]]\n"
          ],
          "name": "stdout"
        }
      ]
    },
    {
      "metadata": {
        "id": "vOjGxHZCMotR",
        "colab_type": "text"
      },
      "cell_type": "markdown",
      "source": [
        "**Broadcasting**\n",
        "\n",
        "\"Broadcasting\" - позволляет numpy выполнять операции над массивами разной формы. В таком случае массив меньшего размера будет использован несколько раз.\n",
        "\n",
        "Рассмотрим пример, в котором добавим одинаковую константу к каждой строке матрицы:"
      ]
    },
    {
      "metadata": {
        "id": "qaaixCElI3DO",
        "colab_type": "code",
        "colab": {}
      },
      "cell_type": "code",
      "source": [
        "x = np.array([[1,2,3], [4,5,6], [7,8,9], [10, 11, 12]])\n",
        "v = np.array([1, 0, 1])\n",
        "y = np.empty_like(x)   # Создаем пустую матрицу, такой же формы как и x\n",
        "\n",
        "# Добавляем вектор v к каждой строке матрицы в цикле\n",
        "for i in range(4):\n",
        "    y[i, :] = x[i, :] + v\n",
        "\n",
        "# Выведет у\n",
        "# [[ 2  2  4]\n",
        "#  [ 5  5  7]\n",
        "#  [ 8  8 10]\n",
        "#  [11 11 13]]\n",
        "print(y)"
      ],
      "execution_count": 0,
      "outputs": []
    },
    {
      "metadata": {
        "id": "JFtG0TupNzAw",
        "colab_type": "text"
      },
      "cell_type": "markdown",
      "source": [
        "При больших размерах такой код будет работать медленно. Можно создать матрицу, в которой каждая строка будет равна вектору v."
      ]
    },
    {
      "metadata": {
        "id": "nOiAQRhBN3_u",
        "colab_type": "code",
        "colab": {}
      },
      "cell_type": "code",
      "source": [
        "x = np.array([[1,2,3], [4,5,6], [7,8,9], [10, 11, 12]])\n",
        "v = np.array([1, 0, 1])\n",
        "vv = np.tile(v, (4, 1))   # Матрица из 4 копий вектора v\n",
        "print(vv)                 # Выводит \"[[1 0 1]\n",
        "                          #          [1 0 1]\n",
        "                          #          [1 0 1]\n",
        "                          #          [1 0 1]]\"\n",
        "y = x + vv  # Складываем матрицы\n",
        "print(y)  # Получаем \"[[ 2  2  4]\n",
        "          #            [ 5  5  7]\n",
        "          #            [ 8  8 10]\n",
        "          #            [11 11 13]]\""
      ],
      "execution_count": 0,
      "outputs": []
    },
    {
      "metadata": {
        "id": "MUmCm0gmOYC4",
        "colab_type": "text"
      },
      "cell_type": "markdown",
      "source": [
        "При broadcasting эта операци происходит автоматически:"
      ]
    },
    {
      "metadata": {
        "id": "H8hX_2MPOfau",
        "colab_type": "code",
        "colab": {}
      },
      "cell_type": "code",
      "source": [
        "x = np.array([[1,2,3], [4,5,6], [7,8,9], [10, 11, 12]])\n",
        "v = np.array([1, 0, 1])\n",
        "y = x + v  # Добавляем вектор v к каждой строке матрицы x, используя broadcasting\n",
        "print(y)  # Получаем \"[[ 2  2  4]\n",
        "          #            [ 5  5  7]\n",
        "          #            [ 8  8 10]\n",
        "          #            [11 11 13]]\""
      ],
      "execution_count": 0,
      "outputs": []
    },
    {
      "metadata": {
        "id": "f8B_VnkOQ23W",
        "colab_type": "text"
      },
      "cell_type": "markdown",
      "source": [
        "Мы рассмотрели лишь малую часть возможностей numpy. Подробнее узнать про методы можно, напрмер, здесь: https://habr.com/ru/post/352678/ или в официалной документации: https://docs.scipy.org/doc/numpy/"
      ]
    },
    {
      "metadata": {
        "id": "fPpvGsBPI3r2",
        "colab_type": "text"
      },
      "cell_type": "markdown",
      "source": [
        "**Задание** \n",
        "* Создать матрицу X размера (N, m), заполненную случаными числами. Где N - количество примеров, а m - количество признаков\n",
        "* Добавить к матрице столбец в котором будут все 1. В результате матрица будет размера (N, m+1)\n",
        "* Создать вектор параметров $\\omega$ размера (m+1), заполненный случайными числами\n",
        "* Создать вектор \"ответов\" y размера (N), заполненный случайными числами\n",
        "* Написать python функцию, которая получает на вход X, $\\omega$ и y. На выходе выдает функцию потерь для линейной регрессии "
      ]
    },
    {
      "metadata": {
        "id": "KwbBcuDpKoHi",
        "colab_type": "code",
        "colab": {}
      },
      "cell_type": "code",
      "source": [
        ""
      ],
      "execution_count": 0,
      "outputs": []
    }
  ]
}