{
  "nbformat": 4,
  "nbformat_minor": 0,
  "metadata": {
    "colab": {
      "name": "numpy.ipynb",
      "version": "0.3.2",
      "provenance": [],
      "collapsed_sections": []
    },
    "kernelspec": {
      "name": "python3",
      "display_name": "Python 3"
    }
  },
  "cells": [
    {
      "metadata": {
        "id": "EwKb9zSg5pIX",
        "colab_type": "text"
      },
      "cell_type": "markdown",
      "source": [
        "#Введение в Numpy\n",
        "\n",
        "На лекции мы рассмотрели функцию потерь для линнейной регрессии:\n",
        "$$L_\\text{общ}=\\frac{\\sum_{i=1}^N(\\omega_1\\cdot x_1^i+\\omega_2\\cdot x_2^i+\\ldots+\\omega_k\\cdot x_k^i+b-y_i^*)^2}{N}$$\n",
        "\n",
        "Записать такую функцию явно может быть не очень удобно. \n",
        "\n",
        "Давайте разделим ее на части.\n",
        "\n",
        "Рассмотрим одно слагаемое:\n",
        "$$(\\omega_1\\cdot x_1^i+\\omega_2\\cdot x_2^i+\\ldots+\\omega_k\\cdot x_k^i+b-y_i^*)^2$$\n",
        "\n",
        "Первое, что нужно сделать вычислить:\n",
        "$$\\omega_1\\cdot x_1^i+\\omega_2\\cdot x_2^i+\\ldots+\\omega_k\\cdot x_k^i$$\n",
        "\n",
        "Это выражение напоминает нам скалярное произведение, потому мы можем записать его как:\n",
        "$$\\vec{x}^i\\cdot \\vec{\\omega}$$"
      ]
    },
    {
      "metadata": {
        "id": "wcpErCjTEMyn",
        "colab_type": "text"
      },
      "cell_type": "markdown",
      "source": [
        "Для удобной работы с векторами и матрицами существует специальная библиотека numpy"
      ]
    },
    {
      "metadata": {
        "id": "nzGejCwt5tBR",
        "colab_type": "code",
        "colab": {}
      },
      "cell_type": "code",
      "source": [
        "# подключение и стандартное сокращение\n",
        "import numpy as np "
      ],
      "execution_count": 0,
      "outputs": []
    },
    {
      "metadata": {
        "id": "udeK5G5BEYVD",
        "colab_type": "code",
        "outputId": "baf9f0e3-9f81-4447-cf60-adc6309cfd75",
        "colab": {
          "base_uri": "https://localhost:8080/",
          "height": 140
        }
      },
      "cell_type": "code",
      "source": [
        "a = np.array([1, 2, 3])   # Создает одномерный массив - вектор из обычного массива\n",
        "print(type(a))            # Выводит тип \"<class 'numpy.ndarray'>\"\n",
        "print(a.shape)            # Выводит форму массива \"(3,)\"\n",
        "print(a[0], a[1], a[2])   # Выводит элементы \"1 2 3\"\n",
        "a[0] = 5                  # Работа с элементами, как и в случае обычных массивов\n",
        "print(a)                  # Выодит обновленный массив \"[5, 2, 3]\"\n",
        "\n",
        "b = np.array([[1,2,3],[4,5,6]])    # Создаем массив размерности 2 \n",
        "print(b.shape)                     # Выводит \"(2, 3)\", в массиве 2 строки и 3 столбца\n",
        "print(b[0, 0], b[0, 1], b[1, 0])   # Выводит \"1 2 4\"\n",
        "\n",
        "c = np.arange(10)         # создает массив\n",
        "print(c)                  # выводит [0 1 2 3 4 5 6 7 8 9]"
      ],
      "execution_count": 0,
      "outputs": [
        {
          "output_type": "stream",
          "text": [
            "<class 'numpy.ndarray'>\n",
            "(3,)\n",
            "1 2 3\n",
            "[5 2 3]\n",
            "(2, 3)\n",
            "1 2 4\n",
            "[0 1 2 3 4 5 6 7 8 9]\n"
          ],
          "name": "stdout"
        }
      ]
    },
    {
      "metadata": {
        "id": "7LUOBqkUFH2N",
        "colab_type": "text"
      },
      "cell_type": "markdown",
      "source": [
        "Если перед командой поставить специалный оператор \"%time\", то он покажет время выполнения"
      ]
    },
    {
      "metadata": {
        "id": "f2GYjz4DFGNA",
        "colab_type": "code",
        "outputId": "bb7cebb8-4554-444b-d01b-0be4bb13b152",
        "colab": {
          "base_uri": "https://localhost:8080/",
          "height": 87
        }
      },
      "cell_type": "code",
      "source": [
        "#сравним\n",
        "%time classic = list(range(10**7))\n",
        "%time np_list = np.arange(10**7)"
      ],
      "execution_count": 0,
      "outputs": [
        {
          "output_type": "stream",
          "text": [
            "CPU times: user 165 ms, sys: 595 ms, total: 760 ms\n",
            "Wall time: 756 ms\n",
            "CPU times: user 9.02 ms, sys: 179 ms, total: 188 ms\n",
            "Wall time: 191 ms\n"
          ],
          "name": "stdout"
        }
      ]
    },
    {
      "metadata": {
        "id": "pZJHnZGJCXll",
        "colab_type": "code",
        "outputId": "87f7e813-b896-4c96-c3f0-18702735339d",
        "colab": {
          "base_uri": "https://localhost:8080/",
          "height": 193
        }
      },
      "cell_type": "code",
      "source": [
        "# Различные способы создать массив\n",
        "\n",
        "a = np.zeros((2,2))   # Создает массив 2x2, заполненный нулями\n",
        "print(a)              # Выводит \"[[ 0.  0.]\n",
        "                      #          [ 0.  0.]]\"\n",
        "\n",
        "b = np.ones((1,2))    # Создает массив 1x2, заполненный единицами\n",
        "print(b)              # Выводит \"[[ 1.  1.]]\"\n",
        "\n",
        "c = np.full((3,2), 7)  # Создает массив 3x2, заполненный константой\n",
        "print(c)               # Выводит \"[[ 7.  7.]\n",
        "                       #          [ 7.  7.]\n",
        "                       #          [ 7.  7.]]\"\n",
        "    \n",
        "\n",
        "d = np.eye(2)         # Создает матрицу 2x2 с единицами на диагонали \n",
        "                      # \"сверху слева-> вниз направо\"\n",
        "print(d)              # Выводит \"[[ 1.  0.]\n",
        "                      #          [ 0.  1.]]\"\n",
        "\n",
        "e = np.random.random((2,2))  # Заполняет массив 2x2 случаными числами \n",
        "print(e)                     # Может вывести \"[[ 0.91940167  0.08143941]\n",
        "                             #               [ 0.68744134  0.87236687]]\""
      ],
      "execution_count": 0,
      "outputs": [
        {
          "output_type": "stream",
          "text": [
            "[[0. 0.]\n",
            " [0. 0.]]\n",
            "[[1. 1.]]\n",
            "[[7 7]\n",
            " [7 7]\n",
            " [7 7]]\n",
            "[[1. 0.]\n",
            " [0. 1.]]\n",
            "[[0.46846994 0.71958557]\n",
            " [0.33418822 0.45785633]]\n"
          ],
          "name": "stdout"
        }
      ]
    },
    {
      "metadata": {
        "id": "2Q1nM1CcCh_j",
        "colab_type": "code",
        "outputId": "56358d0c-8228-4a05-93f8-bc54803fd169",
        "colab": {
          "base_uri": "https://localhost:8080/",
          "height": 52
        }
      },
      "cell_type": "code",
      "source": [
        "# Create the following rank 2 array with shape (3, 4)\n",
        "# [[ 1  2  3  4]\n",
        "#  [ 5  6  7  8]\n",
        "#  [ 9 10 11 12]]\n",
        "a = np.array([[1,2,3,4], [5,6,7,8], [9,10,11,12]])\n",
        "\n",
        "# Use slicing to pull out the subarray consisting of the first 2 rows\n",
        "# and columns 1 and 2; b is the following array of shape (2, 2):\n",
        "# [[2 3]\n",
        "#  [6 7]]\n",
        "b = a[:2, 1:3]\n",
        "\n",
        "# A slice of an array is a view into the same data, so modifying it\n",
        "# will modify the original array.\n",
        "print(a[0, 1])   # Prints \"2\"\n",
        "b[0, 0] = 77     # b[0, 0] is the same piece of data as a[0, 1]\n",
        "print(a[0, 1])   # Prints \"77\""
      ],
      "execution_count": 0,
      "outputs": [
        {
          "output_type": "stream",
          "text": [
            "CPU times: user 2 µs, sys: 1 µs, total: 3 µs\n",
            "Wall time: 5.48 µs\n"
          ],
          "name": "stdout"
        }
      ]
    },
    {
      "metadata": {
        "id": "bzwU827zHw8q",
        "colab_type": "text"
      },
      "cell_type": "markdown",
      "source": [
        "#Операции над массивами\n",
        "**Поэлементные операции**"
      ]
    },
    {
      "metadata": {
        "id": "9Vh8RrBWDWHg",
        "colab_type": "code",
        "colab": {}
      },
      "cell_type": "code",
      "source": [
        "x = np.array([[1,2],[3,4]], dtype=np.float64)\n",
        "y = np.array([[5,6],[7,8]], dtype=np.float64)\n",
        "\n",
        "# Поэлементное сложение\n",
        "# [[ 6.0  8.0]\n",
        "#  [10.0 12.0]]\n",
        "print(x + y)\n",
        "print(np.add(x, y))\n",
        "\n",
        "# Поэлементное вычитание\n",
        "# [[-4.0 -4.0]\n",
        "#  [-4.0 -4.0]]\n",
        "print(x - y)\n",
        "print(np.subtract(x, y))\n",
        "\n",
        "# Поэлементное умножение\n",
        "# [[ 5.0 12.0]\n",
        "#  [21.0 32.0]]\n",
        "print(x * y)\n",
        "print(np.multiply(x, y))\n",
        "\n",
        "# Поэлементное деление\n",
        "# [[ 0.2         0.33333333]\n",
        "#  [ 0.42857143  0.5       ]]\n",
        "print(x / y)\n",
        "print(np.divide(x, y))\n",
        "\n",
        "# Поэлементное извлечение квадратного корня\n",
        "# [[ 1.          1.41421356]\n",
        "#  [ 1.73205081  2.        ]]\n",
        "print(np.sqrt(x))"
      ],
      "execution_count": 0,
      "outputs": []
    },
    {
      "metadata": {
        "id": "gdxDsH3TIPV5",
        "colab_type": "text"
      },
      "cell_type": "markdown",
      "source": [
        "**Умножение вектора на вектор и матрицы на вектор**"
      ]
    },
    {
      "metadata": {
        "id": "qM2WRbRYIVIm",
        "colab_type": "code",
        "colab": {}
      },
      "cell_type": "code",
      "source": [
        "x = np.array([[1,2],[3,4]])\n",
        "y = np.array([[5,6],[7,8]])\n",
        "\n",
        "v = np.array([9,10])\n",
        "w = np.array([11, 12])\n",
        "\n",
        "# Скалярное произведение векторов; ответ 219\n",
        "print(v.dot(w))\n",
        "print(np.dot(v, w))\n",
        "\n",
        "# Умножение матрицы на вектор; в результате получаем вектор [29 67]\n",
        "print(x.dot(v))\n",
        "print(np.dot(x, v))\n",
        "\n",
        "# Умножение матрицы на матрицу; в результате получается матрица\n",
        "# [[19 22]\n",
        "#  [43 50]]\n",
        "print(x.dot(y))\n",
        "print(np.dot(x, y))"
      ],
      "execution_count": 0,
      "outputs": []
    },
    {
      "metadata": {
        "id": "wAZBBDXH9MQV",
        "colab_type": "text"
      },
      "cell_type": "markdown",
      "source": [
        "**Операции над матрицами**\n",
        "\n",
        "Numpy содержит встроенные функции для выполнения различны оперций. Встроенные функции оптимизированны и практически всегда работают быстрее тех, которые написаны самостоятельно. Поэтому при возможности стоит использовать встроенные функции."
      ]
    },
    {
      "metadata": {
        "id": "f9NAV_OH9xU4",
        "colab_type": "code",
        "colab": {
          "base_uri": "https://localhost:8080/",
          "height": 70
        },
        "outputId": "89f2c1b6-27d1-48ab-ea60-9638ec13f1b6"
      },
      "cell_type": "code",
      "source": [
        "\n",
        "\n",
        "# суммирование элементов:\n",
        "print(np.sum(matrix)) #выводит 21 - сумма всех элементов\n",
        "\n",
        "# суммирование элементов вдоль заданной оси:\n",
        "print(np.sum(matrix, axis=0)) #выводит [9 12] - сумма элементов в каждом столбце\n",
        "\n",
        "# суммирование элементов вдоль заданной оси:\n",
        "print(np.sum(matrix, axis=1)) #выводит [3 7 11] - сумма элементов в каждой строке"
      ],
      "execution_count": 32,
      "outputs": [
        {
          "output_type": "stream",
          "text": [
            "21\n",
            "[ 9 12]\n",
            "[ 3  7 11]\n"
          ],
          "name": "stdout"
        }
      ]
    },
    {
      "metadata": {
        "id": "JPgmA8H1-6Cs",
        "colab_type": "code",
        "colab": {
          "base_uri": "https://localhost:8080/",
          "height": 70
        },
        "outputId": "b92ae0e9-07d7-4941-d94f-d4c2adabf2ba"
      },
      "cell_type": "code",
      "source": [
        "# матрица размером (3, 2)\n",
        "matrix = np.array([[1, 2],[3,4], [5,6]])\n",
        "\n",
        "# вычисление среднего арифметического элементов:\n",
        "print(np.mean(matrix)) # выводит 3.5\n",
        "\n",
        "# вычисление среднего арифметического элементов по заданной оси:\n",
        "# среднее в столбцах, усредняем значения из различных строк\n",
        "print(np.mean(matrix, axis=0)) # выводит [3. 4.]\n",
        "\n",
        "# среднее в строка, усредняем значения из различных столбцов\n",
        "print(np.mean(matrix, axis=1)) # выводит [1.5 3.5 5.5]\n"
      ],
      "execution_count": 35,
      "outputs": [
        {
          "output_type": "stream",
          "text": [
            "3.5\n",
            "[3. 4.]\n",
            "[1.5 3.5 5.5]\n"
          ],
          "name": "stdout"
        }
      ]
    },
    {
      "metadata": {
        "id": "WVk-G_fFDZGu",
        "colab_type": "text"
      },
      "cell_type": "markdown",
      "source": [
        "**Транспонирование**\n",
        "\n",
        "Транспонирование - получение новой матрицы, путем замены строк на столбцы.\n",
        "\n",
        "https://math1.ru/education/matrix/matrixop.html"
      ]
    },
    {
      "metadata": {
        "id": "wZcXlHo9PQ7t",
        "colab_type": "text"
      },
      "cell_type": "markdown",
      "source": [
        "**Объединение матриц и векторов**\n",
        "\n",
        "При необходимости можно объединять матрицы и/или вектора ( при совпадении соответсвующих размеров).\n",
        "\n",
        "Добавим к матрице вектор как новый столбец или новую строку:"
      ]
    },
    {
      "metadata": {
        "id": "23MYaFHmPfSM",
        "colab_type": "code",
        "colab": {}
      },
      "cell_type": "code",
      "source": [
        "x = np.array([[1,2,3], [4,5,6], [7,8,9]])\n",
        "v = np.array([1, 0, 1])\n",
        "\n",
        "# Добавляем v как столбец\n",
        "# параметры указываются как один кортеж,\n",
        "# то есть в дополнительных скобках через запятую\n",
        "res = np.column_stack((x,v))\n",
        "print(res) # выводит: \"[[1 2 3 1]\n",
        "           #            [4 5 6 0]\n",
        "           #            [7 8 9 1]]\"\n",
        "        \n",
        "# Добавляем v как строку\n",
        "# параметры указываются как один кортеж,\n",
        "# то есть в дополнительных скобках через запятую\n",
        "\n",
        "res = np.row_stack((x,v))\n",
        "print(res) # выводит: \"[[1 2 3]\n",
        "           #            [4 5 6]\n",
        "           #            [7 8 9]\n",
        "           #            [1 0 1]]\"\n",
        "\n",
        "# Добавляем v несколько раз\n",
        "res = np.row_stack((v,x,v))\n",
        "print(res) # выводит: \"[[1 0 1]\n",
        "           #            [1 2 3]\n",
        "           #            [4 5 6]\n",
        "           #            [7 8 9]\n",
        "           #            [1 0 1]]\""
      ],
      "execution_count": 0,
      "outputs": []
    },
    {
      "metadata": {
        "id": "j812Fya896a5",
        "colab_type": "text"
      },
      "cell_type": "markdown",
      "source": [
        "**Задание**\n",
        "\n",
        "Проверить собственные вычисления с первого задания: перемножения матрицы на вектор и матрицы на матрицу"
      ]
    },
    {
      "metadata": {
        "id": "19q6_xBm-HMV",
        "colab_type": "code",
        "colab": {}
      },
      "cell_type": "code",
      "source": [
        ""
      ],
      "execution_count": 0,
      "outputs": []
    },
    {
      "metadata": {
        "id": "vOjGxHZCMotR",
        "colab_type": "text"
      },
      "cell_type": "markdown",
      "source": [
        "**Broadcasting**\n",
        "\n",
        "\"Broadcasting\" - позволляет numpy выполнять операции над массивами разной формы. В таком случае массив меньшего размера будет использован несколько раз.\n",
        "\n",
        "Рассмотрим пример, в котором добавим одинаковую константу к каждой строке матрицы:"
      ]
    },
    {
      "metadata": {
        "id": "qaaixCElI3DO",
        "colab_type": "code",
        "colab": {}
      },
      "cell_type": "code",
      "source": [
        "x = np.array([[1,2,3], [4,5,6], [7,8,9], [10, 11, 12]])\n",
        "v = np.array([1, 0, 1])\n",
        "y = np.empty_like(x)   # Создаем пустую матрицу, такой же формы как и x\n",
        "\n",
        "# Добавляем вектор v к каждой строке матрицы в цикле\n",
        "for i in range(4):\n",
        "    y[i, :] = x[i, :] + v\n",
        "\n",
        "# Выведет у\n",
        "# [[ 2  2  4]\n",
        "#  [ 5  5  7]\n",
        "#  [ 8  8 10]\n",
        "#  [11 11 13]]\n",
        "print(y)"
      ],
      "execution_count": 0,
      "outputs": []
    },
    {
      "metadata": {
        "id": "JFtG0TupNzAw",
        "colab_type": "text"
      },
      "cell_type": "markdown",
      "source": [
        "При больших размерах такой код будет работать медленно. Можно создать матрицу, в которой каждая строка будет равна вектору v."
      ]
    },
    {
      "metadata": {
        "id": "nOiAQRhBN3_u",
        "colab_type": "code",
        "colab": {}
      },
      "cell_type": "code",
      "source": [
        "x = np.array([[1,2,3], [4,5,6], [7,8,9], [10, 11, 12]])\n",
        "v = np.array([1, 0, 1])\n",
        "vv = np.tile(v, (4, 1))   # Матрица из 4 копий вектора v\n",
        "print(vv)                 # Выводит \"[[1 0 1]\n",
        "                          #          [1 0 1]\n",
        "                          #          [1 0 1]\n",
        "                          #          [1 0 1]]\"\n",
        "y = x + vv  # Складываем матрицы\n",
        "print(y)  # Получаем \"[[ 2  2  4]\n",
        "          #            [ 5  5  7]\n",
        "          #            [ 8  8 10]\n",
        "          #            [11 11 13]]\""
      ],
      "execution_count": 0,
      "outputs": []
    },
    {
      "metadata": {
        "id": "MUmCm0gmOYC4",
        "colab_type": "text"
      },
      "cell_type": "markdown",
      "source": [
        "При broadcasting эта операци происходит автоматически:"
      ]
    },
    {
      "metadata": {
        "id": "H8hX_2MPOfau",
        "colab_type": "code",
        "colab": {}
      },
      "cell_type": "code",
      "source": [
        "x = np.array([[1,2,3], [4,5,6], [7,8,9], [10, 11, 12]])\n",
        "v = np.array([1, 0, 1])\n",
        "y = x + v  # Добавляем вектор v к каждой строке матрицы x, используя broadcasting\n",
        "print(y)  # Получаем \"[[ 2  2  4]\n",
        "          #            [ 5  5  7]\n",
        "          #            [ 8  8 10]\n",
        "          #            [11 11 13]]\""
      ],
      "execution_count": 0,
      "outputs": []
    },
    {
      "metadata": {
        "id": "f8B_VnkOQ23W",
        "colab_type": "text"
      },
      "cell_type": "markdown",
      "source": [
        "Мы рассмотрели лишь малую часть возможностей numpy. Подробнее узнать про методы можно, напрмер, здесь: https://habr.com/ru/post/352678/ или в официалной документации: https://docs.scipy.org/doc/numpy/"
      ]
    },
    {
      "metadata": {
        "id": "fPpvGsBPI3r2",
        "colab_type": "text"
      },
      "cell_type": "markdown",
      "source": [
        "**Задание** \n",
        "* Создать матрицу X размера (N, m), заполненную случаными числами. Где N - количество примеров, а m - количество признаков\n",
        "* Добавить к матрице столбец в котором будут все 1. В результате матрица будет размера (N, m+1)\n",
        "* Создать вектор \"ответов\" y размера (N), заполненный случайными числами\n",
        "* Создать вектор параметров $\\omega$ размера (m+1), заполненный случайными числами\n",
        "* Написать python функцию, которая получает на вход X, $\\omega$ и y. На выходе выдает функцию потерь для линейной регрессии "
      ]
    },
    {
      "metadata": {
        "id": "KwbBcuDpKoHi",
        "colab_type": "code",
        "colab": {}
      },
      "cell_type": "code",
      "source": [
        "# Задайте размеры входного набора данных: \n",
        "# N - количество примеров, m - количество признаков\n",
        "\n",
        "N = None\n",
        "m = None\n",
        "\n",
        "N = 1\n",
        "m = 2\n",
        "\n",
        "# Матрица, в которой каждая строка описывает пример. \n",
        "# У нас N примеров и m признаков у каждого, размер матрицы  должен быть (N,m)\n",
        "# в будущем мы будем считывать мтарицу из файла, Но\n",
        "X = None\n",
        "X = np.random.random((N,m))\n",
        "\n",
        "# Кроме признаков в формуле есть слагаемое \"b\"\n",
        "# Для удобства мы можем считать, \n",
        "# что у каждого примера есть дополнительный (m+1)-ый параметр, равный 1\n",
        "# Тогда слагаемое b можно переписать как: b*x_(m+1). \n",
        "# Где x_(m+1) для всех примеров равен 1\n",
        "\n",
        "# Создайте столбец, заполненный единицами и длины N. \n",
        "add_to_x = None\n",
        "add_to_x = np.full((N),1)\n",
        "\n",
        "# Добавьте столбец к матрице и запишите результат в переменную\n",
        "extended_x = None\n",
        "extended_x = np.column_stack((X, add_to_x))\n",
        "\n",
        "# проверим что матрица параметров имеет нужную форму\n",
        "assert extended_x.shape == (N, m + 1), \"Неправильная размерность матрицы параметров\"\n",
        "\n",
        "\n",
        "# Вектор ответов для каждого примера. \n",
        "# В будущем его мы так же будем считывать из набора данных.\n",
        "# Пока задаим его вручную, размер вектора - (N)\n",
        "у = None\n",
        "y = np.random.random((N))\n",
        "\n",
        "\n",
        "# Вектор параметров. В каждой строке содержится m+1 признак. \n",
        "# Задаем вектор omega с m+1 переменной:\n",
        "omega = np.random.random((m + 1))\n",
        "\n",
        "\n",
        "# проверим что y и omega имеет нужную форму\n",
        "assert y.shape == (N,), \"Неправильная размерность вектора y\"\n",
        "assert omega.shape == (m + 1,), \"Неправильная размерность вектора omega\"\n",
        "\n",
        "\n",
        "# Функция потерь\n",
        "\n",
        "# функция, котороая вычисляет значение функции потерь:\n",
        "def linear_loss(extended_x, y, omega):\n",
        "    # Вычислим скалярные произведения для каждого примера:\n",
        "    tmp1 = None\n",
        "    tmp1 = np.dot(extended_x, omega)\n",
        "\n",
        "    # Далее вычтем из этих значений ответы, то есть вектор y\n",
        "    tmp2 = None\n",
        "    tmp2 = tmp1 - y\n",
        "\n",
        "    # Возведем полученные числа в квадрат:\n",
        "    tmp3 = None\n",
        "    tmp3 = tmp2 ** 2\n",
        "\n",
        "    # посчитаем среднее значение, это и есть функция потерь\n",
        "    loss = None\n",
        "    loss = np.mean(tmp3)\n",
        "\n",
        "    print(loss)"
      ],
      "execution_count": 0,
      "outputs": []
    },
    {
      "metadata": {
        "id": "xVYbDodd0juP",
        "colab_type": "text"
      },
      "cell_type": "markdown",
      "source": [
        "**Домашнее задание** \n",
        "* Написать функцию, которая возвращает вектор произвордных для для функции потерь.\n",
        "* Реализовать градиентный спуск для текущей модели"
      ]
    },
    {
      "metadata": {
        "id": "9JHyt6afw3TK",
        "colab_type": "code",
        "colab": {
          "base_uri": "https://localhost:8080/",
          "height": 34
        },
        "outputId": "a604c335-5b3d-4aae-d604-f816f8050002"
      },
      "cell_type": "code",
      "source": [
        "def grad_loss_func(extended_x, y, omega):    \n",
        "    gradients = None\n",
        "    gradients = 2 * omega * np.mean(extended_x, axis=0) \n",
        "    return gradients\n",
        "\n",
        "tmp_extended_x = np.full((2, 3), 1)\n",
        "tmp_y = np.full((2), 2)\n",
        "tmp_omega = np.full((3), 1)\n",
        "\n",
        "grads = grad_loss_func(tmp_extended_x, tmp_y, tmp_omega)\n",
        "print(grads)"
      ],
      "execution_count": 40,
      "outputs": [
        {
          "output_type": "stream",
          "text": [
            "[2. 2. 2.]\n"
          ],
          "name": "stdout"
        }
      ]
    },
    {
      "metadata": {
        "id": "chgTYgINBhIa",
        "colab_type": "code",
        "colab": {}
      },
      "cell_type": "code",
      "source": [
        ""
      ],
      "execution_count": 0,
      "outputs": []
    }
  ]
}