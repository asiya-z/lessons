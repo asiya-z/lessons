{
  "nbformat": 4,
  "nbformat_minor": 0,
  "metadata": {
    "colab": {
      "name": "Untitled21.ipynb",
      "version": "0.3.2",
      "provenance": [],
      "collapsed_sections": []
    },
    "kernelspec": {
      "name": "python3",
      "display_name": "Python 3"
    }
  },
  "cells": [
    {
      "metadata": {
        "id": "VpMNhw4KmJw_",
        "colab_type": "text"
      },
      "cell_type": "markdown",
      "source": [
        "# Классификация\n",
        "\n",
        "Задача классификации  - определение принадлежности объекта к заданному классу. \n",
        "\n",
        "Рассмотрим случай бинарной классификации: есть всего 2 класса. Объекты, которые отностся к первому классу,  пометим меткой y= 1, а ко второму -  y=-1.\n",
        "\n",
        "Наша задача постороить модель, которая на основе признаков будет предсказывать метку класса.\n",
        "\n",
        "Попробуем применить модель, которую мы уже рассматривали - линейную. Зададим вектор параметров $\\vec{\\omega}$. Для каждого примера у нас есть вектор признаков $\\vec{x}$. Тогда предсказания мы будем делать на основе выражения $\\vec{\\omega}\\cdot\\vec{x}+b$, в дальнейшем для краткости мы будем опускать параметр $b$ и рассматривать выражение  $\\vec{\\omega}\\cdot\\vec{x}$.\n",
        "\n",
        "Можно выбрать различные способы преобразования этого выражения в метки классов. Один из простейших - смотреть на знак выражения:\n",
        "$$\\vec{\\omega}\\cdot\\vec{x}\\geq0 \\Rightarrow класс\\; 1$$\n",
        "$$\\vec{\\omega}\\cdot\\vec{x}<0 \\Rightarrow класс\\; 2$$\n",
        "Функция $sign(x)$:\n",
        "$$sign(x)=\\begin{cases}\\;\\;1,\\; при\\; x>0 \\\\\\;\\;0,\\; при\\; x=0\\\\-1,\\; при\\; x<0\\end{cases}$$\n",
        "\n",
        "Классификатор:\n",
        "$$class(x)=sign(\\vec{\\omega}\\cdot\\vec{x})$$\n",
        "\n",
        "В случае если у объектов только 2 признака, то у модели будет 3 параметра: $\\omega_1$, $\\omega_2$ и $b$. Для наглядности давайте первый признак обозначим $x$, а второй $y$. Тогда признаки примеров, которые лежат между классами, описывается выражением:\n",
        "$$x\\cdot \\omega_1+y\\cdot\\omega_2=0$$\n",
        "\n",
        "Это уравнение задает прямую, которая и будет разделять примеры из разнык классов\n",
        "(при $\\omega_2\\ne0$ можем переписать его в виде $y =-x\\cdot \\omega_1/\\omega_2$).\n",
        "\n",
        "При большем количестве признаков это выражение будет задавать уже плоскость (в трехмерии) или гиперплоскость. \n",
        "\n",
        "Просто метки класса часто недостаточно - классификатор может ошибаться, поэтому необходимо знать насколько он \"уверен\" в своем предсказании. Для этого можно предсказывать вероятность того, что обект принадлежит классу 1. (Если вероятность близка к 0 значит он принадлежит к классу 2).\n",
        "\n",
        "Вероятность должна лежать в промежутке [0,1], а наше предсказание $\\vec{\\omega}\\cdot\\vec{x}$ принимает значения от 0 до $\\infty$. Надо придумать как \"разумно\" перевести $\\vec{\\omega}\\cdot\\vec{x}$ в вероятности.\n",
        "\n",
        "Заметим, что чем дальше лежит пример от разделяющей плоскости тем увереннее в его классе классификатор.\n",
        "Расстояние от точки $(x_1,y_1)$ до прямой $y =-x\\cdot \\omega_1/\\omega_2$ можно найти по формуле:\n",
        "\n",
        "\n",
        "$$d=\\frac{|\\omega_1\\cdot x_1+\\omega_2\\cdot y_1|}{\\sqrt{\\omega_1^2+\\omega_2^2}}$$\n",
        "\n",
        "При отсутствии модуля в числителе мы как раз получим расстояние до разделяющей прямой с учетом класса. Знаменатель для всех примеров одинаковый, поэтому уверенность как раз зависит от значения выражения $\\omega_1\\cdot x_1+\\omega_2\\cdot y_1=\\vec{\\omega}\\cdot\\vec{x}$.\n",
        "\n",
        "Мы хотим чтобы при $\\vec{\\omega}\\cdot\\vec{x}\\rightarrow -\\infty$ вероятность $p(\\vec{x}\\in 1)\\rightarrow 0$ и наоборот: при $\\vec{\\omega}\\cdot\\vec{x}\\rightarrow \\infty$ вероятность $p(\\vec{x}\\in 1)\\rightarrow 1$\n",
        "\n",
        "Обозначим $p(\\vec{x}\\in 1)=p_1$ и рассмотрим выражение $OR=\\frac{p_1}{1-p_1}$. При $p_1 \\in [0,1]$ выражение $OR\\in (0, \\infty)$. \n",
        "\n",
        "Уже лучше, но нам надо   $(-\\infty, \\infty)$. Возьмем $ln$.\n",
        "\n",
        "Тогда по свойствам  $ln$ выражение  $ln(OR)\\in (-\\infty, \\infty)$. То, что надо!)\n",
        "\n",
        "Получили:\n",
        "$$ln(\\frac{p_1}{1-p_1})=\\vec{\\omega}\\cdot\\vec{x}$$\n",
        "\n",
        "Выразим отсюда $p_1$:\n",
        "\n",
        "$$p_1=\\frac{1}{1+exp(-\\vec{\\omega}\\cdot\\vec{x})}=sigmoid(\\vec{\\omega}\\cdot\\vec{x})$$\n",
        "\n",
        "\n",
        "\n",
        "\n",
        "\n",
        "\n"
      ]
    },
    {
      "metadata": {
        "id": "eVlTeJE7mICP",
        "colab_type": "code",
        "colab": {
          "base_uri": "https://localhost:8080/",
          "height": 362
        },
        "outputId": "22d6b57b-b686-4d70-ac19-38f5c3f125b8"
      },
      "cell_type": "code",
      "source": [
        "import matplotlib.pyplot as plt\n",
        "import numpy as np\n",
        "\n",
        "x = np.arange(-10,10,0.2)\n",
        "y = 1/(1+np.exp(-x))\n",
        "\n",
        "plt.plot(x,y)\n",
        "plt.title(\"Sigmoid\")\n",
        "plt.show()"
      ],
      "execution_count": 4,
      "outputs": [
        {
          "output_type": "display_data",
          "data": {
            "image/png": "[encoded data removed]",
            "text/plain": [
              "<Figure size 576x396 with 1 Axes>"
            ]
          },
          "metadata": {
            "tags": []
          }
        }
      ]
    },
    {
      "metadata": {
        "id": "JXEJH2l5NnkV",
        "colab_type": "text"
      },
      "cell_type": "markdown",
      "source": [
        "Значения $sigmoid(\\vec{\\omega}\\cdot\\vec{x})$ лежат в промежутке (0,1) и обозначают вероятность принадлежности к классу 1.\n",
        "\n",
        "###Задание №1 (бонусное)\n",
        "Вывести формулу для $p_1$ из выражения $ln(\\frac{p_1}{1-p_1})=\\vec{\\omega}\\cdot\\vec{x}$.\n",
        "\n"
      ]
    },
    {
      "metadata": {
        "id": "bKakv_smRV38",
        "colab_type": "text"
      },
      "cell_type": "markdown",
      "source": [
        "Теперь надо записать функцию потерь, для которой мы будем искать минимум для тренировки модели.\n",
        "Для удобства вычисли вероятность того, что объект $\\vec{x}$ принадлежит классу 2:\n",
        "$$p(\\vec{x}\\in 2)=p_2=1-p_1=\\frac{1}{1+exp(\\vec{\\omega}\\cdot\\vec{x})}=sigmoid(-\\vec{\\omega}\\cdot\\vec{x})$$\n",
        "\n",
        "Можно записать формулы $p_1$ и $p_2$ в общем виде:\n",
        "\n",
        "$$p(\\vec{x_i}\\in y_i)=\\frac{1}{1+exp(-y_i\\cdot\\vec{\\omega}\\cdot\\vec{x})}=sigmoid(y_i\\cdot\\vec{\\omega}\\cdot\\vec{x})$$\n",
        "\n",
        "##Метод максимального правдоподобия\n",
        "Запишем вероятность того, что классификатор выдаст правильные метки для всех примеров. Так как все объекты у нас независимы, то общая вероятность будет произведением вероятностей:\n",
        "\n",
        "$$P(X, y, \\vec\\omega)=p(\\vec{x_1}\\in y_1)\\cdotp(\\vec{x_2}\\in y_2)\\ldots p(\\vec{x_n}\\in y_n)$$\n",
        "\n",
        "Мы хотим максимизировать эту вероятность и найти ее соответствующие параметры $\\vec{\\omega}$.\n",
        "\n",
        "Для удобства возьмем $ln$ от правой и левой частей. Натуральный логарифм возрастает, потому чем больше значение логарифма, тем больше значение аргумента. Максимум $P$ достигается одновременно с максимумо $ln$. $ln$ произведения - сумма логарифмов.\n",
        "\n",
        "$$ln(P)=\\sum_i ln(p(\\vec{x_i}\\in y_i))=\\sum_i ln(sigmoid(y_i\\cdot\\vec{\\omega}\\cdot\\vec{x}))=$$\n",
        "$$=\\sum_i ln(\\frac{1}{1+exp(-y_i\\cdot\\vec{\\omega}\\cdot\\vec{x})})=\\sum_i -ln(1+exp(-y_i\\cdot\\vec{\\omega}\\cdot\\vec{x}))$$\n",
        "\n",
        "Поиск максимума такого выражения соответствует поиску миниму следующего выражения:\n",
        "\n",
        "$$L(X,y,\\vec\\omega)=\\sum_i ln(1+exp(-y_i\\cdot\\vec{\\omega}\\cdot\\vec{x}))$$\n",
        "\n",
        "Это логистическая функция потерь.\n",
        "\n",
        "$$\\vec\\omega^*=arg min L(X,y,\\vec\\omega)$$"
      ]
    },
    {
      "metadata": {
        "id": "sBN1LkYZVWj7",
        "colab_type": "code",
        "colab": {
          "base_uri": "https://localhost:8080/",
          "height": 347
        },
        "outputId": "9932f6fa-5ecb-4fe1-bd0a-6a891a3c78f4"
      },
      "cell_type": "code",
      "source": [
        "def generate_data_1(a, b, c=0, noise_factor = 1):\n",
        "    max_range = 10\n",
        "    noise_factor = 0.01\n",
        "    n = 100\n",
        "    \n",
        "    X = (np.random.random((n,2))-0.5) * max_range \n",
        "    \n",
        "    criterion = X[:, 0] * a + X[:, 1] * b + c\n",
        "    y = np.ones((n))\n",
        "    y[criterion < 0] = -1\n",
        "    \n",
        "    X = X + (np.random.random((n,2))-0.5) * noise_factor \n",
        "    \n",
        "    return X, y\n",
        "\n",
        "\n",
        "def plot(X, y):\n",
        "    x1 = X[y==1, 0]\n",
        "    y1 = X[y==1, 1]\n",
        "    x2 = X[y==-1, 0]\n",
        "    y2 = X[y==-1, 1]\n",
        "    \n",
        "    plt.scatter(x1,y1)\n",
        "    plt.scatter(x2, y2)\n",
        "\n",
        "    plt.show()\n",
        "\n",
        "X, y = generate_data_1(3, 5)\n",
        "plot(X, y)\n"
      ],
      "execution_count": 40,
      "outputs": [
        {
          "output_type": "display_data",
          "data": {
            "image/png": "[encoded data removed]",
            "text/plain": [
              "<Figure size 576x396 with 1 Axes>"
            ]
          },
          "metadata": {
            "tags": []
          }
        }
      ]
    },
    {
      "metadata": {
        "id": "5CNY99JCYpmU",
        "colab_type": "text"
      },
      "cell_type": "markdown",
      "source": [
        "### Задание №2\n",
        "1. Сгенерировать свою собственную выборку\n",
        "2. Разделить на обучающую и тестовую (можно пользоваться кодом из прошлых ноутбуков, не забудьте импортровать нужные библиотеки)\n",
        "3. Обучить регрессию и сделать предсказания для тестовой выборки\n",
        "4. Вычислить ошибку найденных коффициентов и исходных, постарайтесь ее объяснить"
      ]
    },
    {
      "metadata": {
        "id": "9mebCwm-eGhk",
        "colab_type": "code",
        "colab": {}
      },
      "cell_type": "code",
      "source": [
        "from sklearn.linear_model import LogisticRegression\n",
        "\n",
        "# генрируем выборку\n",
        "X, y = generate_data_1(3, 5)\n",
        "\n",
        "logistik_regression = LogisticRegression()\n",
        "\n",
        "X_train, X_test, y_train, y_test = None\n",
        "\n",
        "logistik_regression.fit(X_train, y_train)\n",
        "logistik_regression.score(X_test, y_test)\n",
        "\n",
        "# выводим найденные коффициенты\n",
        "print('Omegas: \\n', logistik_regression.coef_)\n",
        "print('B: \\n', logistik_regression.intercept_)\n",
        "\n",
        "# вычислите и выведите точность предсказаний для тестовых данных\n",
        "# можно использовать метод score\n",
        "score = None\n",
        "\n",
        "print('Критерий R² (чем ближе к 1, тем точнее): \\n',  score   )\n",
        "\n",
        "# сделать предсказания можно с помощью метода predict\n",
        "y_test_predict = logistik_regression(X_test)"
      ],
      "execution_count": 0,
      "outputs": []
    },
    {
      "metadata": {
        "id": "rEr9menmh3Yo",
        "colab_type": "text"
      },
      "cell_type": "markdown",
      "source": [
        "\n",
        "## Нелинейная граница"
      ]
    },
    {
      "metadata": {
        "id": "bSKba_dEambX",
        "colab_type": "code",
        "colab": {
          "base_uri": "https://localhost:8080/",
          "height": 347
        },
        "outputId": "6f19bc87-560d-4808-968f-772c37180c3b"
      },
      "cell_type": "code",
      "source": [
        "# граница нелинейна\n",
        "def generate_data_2(a, b, c=1, d=-2, e=3, f=-1, noise_factor = 1):\n",
        "    max_range = 10\n",
        "    noise_factor = 0.01\n",
        "    n = 100\n",
        "    \n",
        "    X = (np.random.random((n,2))-0.5) * max_range \n",
        "    \n",
        "    criterion = X[:, 0] ** 2 * a - X[:, 1] **2 * b + X[:, 0] * X[:, 1] *c + X[:, 0] * d + X[:, 1] * e + f\n",
        "    y = np.ones((n))\n",
        "    y[criterion < 0] = -1\n",
        "    \n",
        "    X = X + (np.random.random((n,2))-0.5) * noise_factor \n",
        "    \n",
        "    return X, y\n",
        "\n",
        "X2, y2 = generate_data_2(2, 2)\n",
        "plot(X2, y2)"
      ],
      "execution_count": 36,
      "outputs": [
        {
          "output_type": "display_data",
          "data": {
            "image/png": "[encoded data removed]",
            "text/plain": [
              "<Figure size 576x396 with 1 Axes>"
            ]
          },
          "metadata": {
            "tags": []
          }
        }
      ]
    },
    {
      "metadata": {
        "id": "_U5Hwa99fhRo",
        "colab_type": "text"
      },
      "cell_type": "markdown",
      "source": [
        "### Задание №3\n",
        "1. Добавить необходимые признаки к матрице X. Стоит вспомнить как мы ранее добавляли к нашей матрице стобец с единицами\n",
        "2. Обучить логистическую регрессию\n",
        "3. Вывести параметры и объяснить их"
      ]
    },
    {
      "metadata": {
        "id": "nWWRm6V9fOpx",
        "colab_type": "code",
        "colab": {}
      },
      "cell_type": "code",
      "source": [
        "# ваш код здесь"
      ],
      "execution_count": 0,
      "outputs": []
    },
    {
      "metadata": {
        "id": "kzGMZup0hWiy",
        "colab_type": "text"
      },
      "cell_type": "markdown",
      "source": [
        "### Задание №4 (бонусное)\n",
        "\n",
        "1. Обучить логистическую регрессию самосоятельно методом градиентного спуска. \n",
        "2. Желающие могут получить формулу для градиентов."
      ]
    },
    {
      "metadata": {
        "id": "lTOzVtWVhWNL",
        "colab_type": "code",
        "colab": {}
      },
      "cell_type": "code",
      "source": [
        ""
      ],
      "execution_count": 0,
      "outputs": []
    }
  ]
}