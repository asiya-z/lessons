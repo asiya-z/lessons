{
 "cells": [
  {
   "cell_type": "markdown",
   "metadata": {},
   "source": [
    "<h1 style=\"text-align: center; \"> Python</h1>"
   ]
  },
  {
   "cell_type": "markdown",
   "metadata": {},
   "source": [
    "<h2 style=\"text-align:center\"> Общие сведения </h2>"
   ]
  },
  {
   "cell_type": "markdown",
   "metadata": {},
   "source": [
    "Python - интерпретируемый язык программирования.\n",
    "Мы будем использовать версию старше чем <b>3.5</b>. \n",
    "Существуют версии 2.\\*, но код для них, не совместим с версиями 3.\\*.\n",
    "\n",
    "Существует стандарт для оформления программ, описанный в <b><a href=\"https://www.python.org/dev/peps/pep-0008/\">PEP8</a></b>\n",
    "Основные рекомендации:\n",
    "<ul>\n",
    "    <li>Отсутпы - 4 пробела</li>\n",
    "    <li>Наименования:\n",
    "        <ul>\n",
    "            <li> Переменные. Маленькие буквы, подчеркивание для разделения слов: variable_name</li>\n",
    "            <li> константы: За буквы, подчеркивание для разделения слов: CONST_NAME</li>\n",
    "            <li> классы: ClassName</li>\n",
    "        </ul>\n",
    "    </li>\n",
    "    <li>Длина строки не более 80 символов</li>\n",
    "    <li>Знаки арифметических действий выделяются пробелами: x = 2 + 3</li>\n",
    "</ul>"
   ]
  },
  {
   "cell_type": "markdown",
   "metadata": {},
   "source": [
    "<h4>Советы</h4>\n",
    "<p>Для вывода помощи по любой команде или переменной можно использовать команду \"help\":"
   ]
  },
  {
   "cell_type": "code",
   "execution_count": 10,
   "metadata": {},
   "outputs": [
    {
     "name": "stdout",
     "output_type": "stream",
     "text": [
      "Help on int object:\n",
      "\n",
      "class int(object)\n",
      " |  int(x=0) -> integer\n",
      " |  int(x, base=10) -> integer\n",
      " |  \n",
      " |  Convert a number or string to an integer, or return 0 if no arguments\n",
      " |  are given.  If x is a number, return x.__int__().  For floating point\n",
      " |  numbers, this truncates towards zero.\n",
      " |  \n",
      " |  If x is not a number or if base is given, then x must be a string,\n",
      " |  bytes, or bytearray instance representing an integer literal in the\n",
      " |  given base.  The literal can be preceded by '+' or '-' and be surrounded\n",
      " |  by whitespace.  The base defaults to 10.  Valid bases are 0 and 2-36.\n",
      " |  Base 0 means to interpret the base from the string as an integer literal.\n",
      " |  >>> int('0b100', base=0)\n",
      " |  4\n",
      " |  \n",
      " |  Methods defined here:\n",
      " |  \n",
      " |  __abs__(self, /)\n",
      " |      abs(self)\n",
      " |  \n",
      " |  __add__(self, value, /)\n",
      " |      Return self+value.\n",
      " |  \n",
      " |  __and__(self, value, /)\n",
      " |      Return self&value.\n",
      " |  \n",
      " |  __bool__(self, /)\n",
      " |      self != 0\n",
      " |  \n",
      " |  __ceil__(...)\n",
      " |      Ceiling of an Integral returns itself.\n",
      " |  \n",
      " |  __divmod__(self, value, /)\n",
      " |      Return divmod(self, value).\n",
      " |  \n",
      " |  __eq__(self, value, /)\n",
      " |      Return self==value.\n",
      " |  \n",
      " |  __float__(self, /)\n",
      " |      float(self)\n",
      " |  \n",
      " |  __floor__(...)\n",
      " |      Flooring an Integral returns itself.\n",
      " |  \n",
      " |  __floordiv__(self, value, /)\n",
      " |      Return self//value.\n",
      " |  \n",
      " |  __format__(...)\n",
      " |      default object formatter\n",
      " |  \n",
      " |  __ge__(self, value, /)\n",
      " |      Return self>=value.\n",
      " |  \n",
      " |  __getattribute__(self, name, /)\n",
      " |      Return getattr(self, name).\n",
      " |  \n",
      " |  __getnewargs__(...)\n",
      " |  \n",
      " |  __gt__(self, value, /)\n",
      " |      Return self>value.\n",
      " |  \n",
      " |  __hash__(self, /)\n",
      " |      Return hash(self).\n",
      " |  \n",
      " |  __index__(self, /)\n",
      " |      Return self converted to an integer, if self is suitable for use as an index into a list.\n",
      " |  \n",
      " |  __int__(self, /)\n",
      " |      int(self)\n",
      " |  \n",
      " |  __invert__(self, /)\n",
      " |      ~self\n",
      " |  \n",
      " |  __le__(self, value, /)\n",
      " |      Return self<=value.\n",
      " |  \n",
      " |  __lshift__(self, value, /)\n",
      " |      Return self<<value.\n",
      " |  \n",
      " |  __lt__(self, value, /)\n",
      " |      Return self<value.\n",
      " |  \n",
      " |  __mod__(self, value, /)\n",
      " |      Return self%value.\n",
      " |  \n",
      " |  __mul__(self, value, /)\n",
      " |      Return self*value.\n",
      " |  \n",
      " |  __ne__(self, value, /)\n",
      " |      Return self!=value.\n",
      " |  \n",
      " |  __neg__(self, /)\n",
      " |      -self\n",
      " |  \n",
      " |  __new__(*args, **kwargs) from builtins.type\n",
      " |      Create and return a new object.  See help(type) for accurate signature.\n",
      " |  \n",
      " |  __or__(self, value, /)\n",
      " |      Return self|value.\n",
      " |  \n",
      " |  __pos__(self, /)\n",
      " |      +self\n",
      " |  \n",
      " |  __pow__(self, value, mod=None, /)\n",
      " |      Return pow(self, value, mod).\n",
      " |  \n",
      " |  __radd__(self, value, /)\n",
      " |      Return value+self.\n",
      " |  \n",
      " |  __rand__(self, value, /)\n",
      " |      Return value&self.\n",
      " |  \n",
      " |  __rdivmod__(self, value, /)\n",
      " |      Return divmod(value, self).\n",
      " |  \n",
      " |  __repr__(self, /)\n",
      " |      Return repr(self).\n",
      " |  \n",
      " |  __rfloordiv__(self, value, /)\n",
      " |      Return value//self.\n",
      " |  \n",
      " |  __rlshift__(self, value, /)\n",
      " |      Return value<<self.\n",
      " |  \n",
      " |  __rmod__(self, value, /)\n",
      " |      Return value%self.\n",
      " |  \n",
      " |  __rmul__(self, value, /)\n",
      " |      Return value*self.\n",
      " |  \n",
      " |  __ror__(self, value, /)\n",
      " |      Return value|self.\n",
      " |  \n",
      " |  __round__(...)\n",
      " |      Rounding an Integral returns itself.\n",
      " |      Rounding with an ndigits argument also returns an integer.\n",
      " |  \n",
      " |  __rpow__(self, value, mod=None, /)\n",
      " |      Return pow(value, self, mod).\n",
      " |  \n",
      " |  __rrshift__(self, value, /)\n",
      " |      Return value>>self.\n",
      " |  \n",
      " |  __rshift__(self, value, /)\n",
      " |      Return self>>value.\n",
      " |  \n",
      " |  __rsub__(self, value, /)\n",
      " |      Return value-self.\n",
      " |  \n",
      " |  __rtruediv__(self, value, /)\n",
      " |      Return value/self.\n",
      " |  \n",
      " |  __rxor__(self, value, /)\n",
      " |      Return value^self.\n",
      " |  \n",
      " |  __sizeof__(...)\n",
      " |      Returns size in memory, in bytes\n",
      " |  \n",
      " |  __str__(self, /)\n",
      " |      Return str(self).\n",
      " |  \n",
      " |  __sub__(self, value, /)\n",
      " |      Return self-value.\n",
      " |  \n",
      " |  __truediv__(self, value, /)\n",
      " |      Return self/value.\n",
      " |  \n",
      " |  __trunc__(...)\n",
      " |      Truncating an Integral returns itself.\n",
      " |  \n",
      " |  __xor__(self, value, /)\n",
      " |      Return self^value.\n",
      " |  \n",
      " |  bit_length(...)\n",
      " |      int.bit_length() -> int\n",
      " |      \n",
      " |      Number of bits necessary to represent self in binary.\n",
      " |      >>> bin(37)\n",
      " |      '0b100101'\n",
      " |      >>> (37).bit_length()\n",
      " |      6\n",
      " |  \n",
      " |  conjugate(...)\n",
      " |      Returns self, the complex conjugate of any int.\n",
      " |  \n",
      " |  from_bytes(...) from builtins.type\n",
      " |      int.from_bytes(bytes, byteorder, *, signed=False) -> int\n",
      " |      \n",
      " |      Return the integer represented by the given array of bytes.\n",
      " |      \n",
      " |      The bytes argument must be a bytes-like object (e.g. bytes or bytearray).\n",
      " |      \n",
      " |      The byteorder argument determines the byte order used to represent the\n",
      " |      integer.  If byteorder is 'big', the most significant byte is at the\n",
      " |      beginning of the byte array.  If byteorder is 'little', the most\n",
      " |      significant byte is at the end of the byte array.  To request the native\n",
      " |      byte order of the host system, use `sys.byteorder' as the byte order value.\n",
      " |      \n",
      " |      The signed keyword-only argument indicates whether two's complement is\n",
      " |      used to represent the integer.\n",
      " |  \n",
      " |  to_bytes(...)\n",
      " |      int.to_bytes(length, byteorder, *, signed=False) -> bytes\n",
      " |      \n",
      " |      Return an array of bytes representing an integer.\n",
      " |      \n",
      " |      The integer is represented using length bytes.  An OverflowError is\n",
      " |      raised if the integer is not representable with the given number of\n",
      " |      bytes.\n",
      " |      \n",
      " |      The byteorder argument determines the byte order used to represent the\n",
      " |      integer.  If byteorder is 'big', the most significant byte is at the\n",
      " |      beginning of the byte array.  If byteorder is 'little', the most\n",
      " |      significant byte is at the end of the byte array.  To request the native\n",
      " |      byte order of the host system, use `sys.byteorder' as the byte order value.\n",
      " |      \n",
      " |      The signed keyword-only argument determines whether two's complement is\n",
      " |      used to represent the integer.  If signed is False and a negative integer\n",
      " |      is given, an OverflowError is raised.\n",
      " |  \n",
      " |  ----------------------------------------------------------------------\n",
      " |  Data descriptors defined here:\n",
      " |  \n",
      " |  denominator\n",
      " |      the denominator of a rational number in lowest terms\n",
      " |  \n",
      " |  imag\n",
      " |      the imaginary part of a complex number\n",
      " |  \n",
      " |  numerator\n",
      " |      the numerator of a rational number in lowest terms\n",
      " |  \n",
      " |  real\n",
      " |      the real part of a complex number\n",
      "\n",
      "Help on built-in function print in module builtins:\n",
      "\n",
      "print(...)\n",
      "    print(value, ..., sep=' ', end='\\n', file=sys.stdout, flush=False)\n",
      "    \n",
      "    Prints the values to a stream, or to sys.stdout by default.\n",
      "    Optional keyword arguments:\n",
      "    file:  a file-like object (stream); defaults to the current sys.stdout.\n",
      "    sep:   string inserted between values, default a space.\n",
      "    end:   string appended after the last value, default a newline.\n",
      "    flush: whether to forcibly flush the stream.\n",
      "\n"
     ]
    }
   ],
   "source": [
    "a = 5\n",
    "help(a)\n",
    "help(print)"
   ]
  },
  {
   "cell_type": "markdown",
   "metadata": {},
   "source": [
    "<p>Все переменные являются объектами, которые могут иметь встроенные методы. Для вызова метода необходимо поставить точку после имени переменной и указать имя метода. Если ввести \"<имя_переменной>.\" и нажать \"Tab\", то появиться все доступные варианты:</p>"
   ]
  },
  {
   "cell_type": "code",
   "execution_count": 135,
   "metadata": {},
   "outputs": [],
   "source": [
    "st = \"abc\" #объект класса str"
   ]
  },
  {
   "cell_type": "code",
   "execution_count": 136,
   "metadata": {},
   "outputs": [
    {
     "name": "stdout",
     "output_type": "stream",
     "text": [
      "<class 'str'>\n"
     ]
    }
   ],
   "source": []
  },
  {
   "cell_type": "markdown",
   "metadata": {},
   "source": [
    "<h2 style=\"text-align:center\"> Типы данных</h2>\n",
    "<p>Python - язык с автоматической типизацией: указывать тип переменной при определении не нужно.</p>\n",
    "<p>Все типы могут быть либо <b>изменяемыми</b> (<b>mutable</b>), либо <b>неизменяемыми</b> (<b>immutable</b>).</p>\n",
    "<p>Нейтральное значение - None</p>\n",
    "<p>Для определения типа конкретной переменной используется функция type():</p>"
   ]
  },
  {
   "cell_type": "code",
   "execution_count": 25,
   "metadata": {},
   "outputs": [
    {
     "name": "stdout",
     "output_type": "stream",
     "text": [
      "<class 'int'>\n"
     ]
    }
   ],
   "source": [
    "x = 1\n",
    "print(type(x))"
   ]
  },
  {
   "cell_type": "markdown",
   "metadata": {},
   "source": [
    "<h3 style=\"text-align:center\">Основные типы данных</h3>\n",
    "\n",
    "<p>Числовые:</p>\n",
    "<ul>\n",
    "    <li>int - целые числа</li>\n",
    "    <li>float - вещественные числа</li>\n",
    "</ul>\n",
    "\n",
    "<p>Логические переменные:</p>\n",
    "<ul>\n",
    "    <li>bool</li>\n",
    "</ul>\n",
    "<p>Сивольные строки:</p>\n",
    "<ul>\n",
    "    <li>класс srt</li>\n",
    "</ul>\n",
    "<p>Структуры данных:</p>\n",
    "<ul>\n",
    "    <li>Списки - list</li>\n",
    "    <li>Словари - dict</li>\n",
    "    <li>Множества - set</li>\n",
    "</ul>\n",
    "\n",
    "\n",
    "<p>Множество доплнительных классов</p>"
   ]
  },
  {
   "cell_type": "markdown",
   "metadata": {},
   "source": [
    "<h3 style=\"text-align:center\"> Тип <b>int</b></h3>\n",
    "\n",
    "<p>Служит для храннения целочисленных данных:</p>"
   ]
  },
  {
   "cell_type": "code",
   "execution_count": 3,
   "metadata": {},
   "outputs": [],
   "source": [
    "a = 1"
   ]
  },
  {
   "cell_type": "markdown",
   "metadata": {},
   "source": [
    "<p style=\"text-align:justify\">Поддерживает стандартные математические операции: (\" + \", \" - \", \" * \", \" / \"), а так же возведение в степень (\" ** \"), челочисленное деление (\" // \"), взяие остатка (\" % \"), модуль (\"abs()\"):</p>"
   ]
  },
  {
   "cell_type": "code",
   "execution_count": 48,
   "metadata": {},
   "outputs": [],
   "source": [
    "a = 2**3 # a == 8\n",
    "b = 10 // 3 # b == 3\n",
    "c = 10 % 3 # c == 1\n",
    "d = abs(-2) # d == 2"
   ]
  },
  {
   "cell_type": "markdown",
   "metadata": {},
   "source": [
    "<p> Тип <b>int</b> поддерживает \"длинную арифметику\" (максимальное значение ограниченно имеющейся памятью):</p>"
   ]
  },
  {
   "cell_type": "code",
   "execution_count": 2,
   "metadata": {},
   "outputs": [
    {
     "name": "stdout",
     "output_type": "stream",
     "text": [
      "114813069527425452423283320117768198402231770208869520047764273682576626139237031385665948631650626991844596463898746277344711896086305533142593135616665318539129989145312280000688779148240044871428926990063486244781615463646388363947317026040466353970904996558162398808944629605623311649536164221970332681344168908984458505602379484807914058900934776500429002716706625830522008132236281291761267883317206598995396418127021779858404042159853183251540889433902091920554957783589672039160081957216630582755380425583726015528348786419432054508915275783882625175435528800822842770817965453762184851149029376\n"
     ]
    }
   ],
   "source": [
    "a = 2**2000\n",
    "print(a)"
   ]
  },
  {
   "cell_type": "markdown",
   "metadata": {},
   "source": [
    "<h3 style=\"text-align:center\"> Тип <b>float</b></h3>\n",
    "\n",
    "<p>Служит для храннения вещественных данных:</p>"
   ]
  },
  {
   "cell_type": "code",
   "execution_count": null,
   "metadata": {},
   "outputs": [],
   "source": [
    "num = 1.01"
   ]
  },
  {
   "cell_type": "markdown",
   "metadata": {},
   "source": [
    "Поддерживает те же операции, что и <b>int</b>, но не поддерживает длинную арифметику:"
   ]
  },
  {
   "cell_type": "code",
   "execution_count": null,
   "metadata": {},
   "outputs": [],
   "source": [
    "a = 2 ** 2000 # тип - int \n",
    "# Проверьте, что преобразование во float невозможно\n",
    "b = a + 0.1 "
   ]
  },
  {
   "cell_type": "markdown",
   "metadata": {},
   "source": [
    "<h3 style=\"text-align:center\"> Тип <b>boolean</b></h3>\n",
    "\n",
    "<p>Служит для храннения вещественных данных. Логические операции - <b>not</b>, <b>and</b>, <b>or</b>. В качестве <b>xor</b> можно использовать \"!=\".</p>"
   ]
  },
  {
   "cell_type": "code",
   "execution_count": 2,
   "metadata": {},
   "outputs": [
    {
     "name": "stdout",
     "output_type": "stream",
     "text": [
      "<class 'bool'>\n",
      "False\n",
      "True\n",
      "False\n",
      "True\n"
     ]
    }
   ],
   "source": [
    "t = True\n",
    "f = False\n",
    "print(type(t)) # печатает \"<class 'bool'>\"\n",
    "print(t and f) # Логическое AND; печатает \"False\"\n",
    "print(t or f)  # Логическое OR; печатает \"True\"\n",
    "print(not t)   # Логическое NOT; печатает \"False\"\n",
    "print(t != f)  # Логическое XOR; печатает \"True\""
   ]
  },
  {
   "cell_type": "markdown",
   "metadata": {},
   "source": [
    "<h3 style=\"text-align:center\"> Тип <b>string</b></h3>\n",
    "\n",
    "<p>Служит для храннения строк:</p>"
   ]
  },
  {
   "cell_type": "code",
   "execution_count": 5,
   "metadata": {},
   "outputs": [
    {
     "name": "stdout",
     "output_type": "stream",
     "text": [
      "<class 'str'>\n",
      "hello\n",
      "5\n",
      "hello world\n",
      "hello world 12!\n"
     ]
    }
   ],
   "source": [
    "hello = 'hello'    # Строка с одинарными кавычками\n",
    "print(type(hello)) # печатает \"<class 'str'>\"\n",
    "world = \"world\"    # Строка с двойными кавычками\n",
    "print(hello)       # Печатает значение строки hello\n",
    "print(len(hello))  #  Печатает длину строки - \"5\"\n",
    "hw = hello + ' ' + world  # объединение строк\n",
    "print(hw)  # печатает \"hello world\"\n",
    "hw12 = '{0} {1} {2}!'.format(hello, world, 12)  # форматирование строк\n",
    "print(hw12)  # prints \"hello world 12!\""
   ]
  },
  {
   "cell_type": "markdown",
   "metadata": {},
   "source": [
    "Более подробно про форматирование чисел можно почитать, например, здесь: https://pythonworld.ru/osnovy/formatirovanie-strok-metod-format.html"
   ]
  },
  {
   "cell_type": "markdown",
   "metadata": {},
   "source": [
    "Класс <b>str</b> содержит много встроенным методов:"
   ]
  },
  {
   "cell_type": "code",
   "execution_count": null,
   "metadata": {},
   "outputs": [],
   "source": [
    "s = \"hello\"\n",
    "print(s.capitalize())  # Делает первую букву заглавной: \"Hello\"\n",
    "print(s.upper())       # Делает все буквы заглавными \"HELLO\"\n",
    "print(s.rjust(7))      # Добавляет пробелы справа до заданной длины: \"  hello\"\n",
    "print(s.center(7))     # Выравнивает слово по центру, Добавляя пробелы справа и слева: \n",
    "                       # печатает \" hello \"\n",
    "print(s.replace('l', '(ell)'))  # Заменяет все вхождения на образец\n",
    "                                # печатает \"he(ell)(ell)o\"\n",
    "print('  world '.strip())  # Удаляет все пробелы из начала и конца сроки  \"world\"\n",
    "print('a b c d'.split()) # разбивает строку на отдельные слова и создает список из них; выводит \"['a', 'b', 'c', 'd']\""
   ]
  },
  {
   "cell_type": "markdown",
   "metadata": {},
   "source": [
    "<h2 style=\"text-align:center\">Структуры данных</h2>"
   ]
  },
  {
   "cell_type": "markdown",
   "metadata": {},
   "source": [
    "<h3 style=\"text-align:center\"> List</h3>\n",
    "<p>Массивы в языке Python. Нумерация идет с нулевого элемента</p>\n",
    "<p>Обладают несколькими особенностями, в том числе:</p>\n",
    "<ul>\n",
    "    <li>по необходимости могут изменять размер</li>\n",
    "    <li>могут хранить данные различных типов</li>\n",
    "</ul>"
   ]
  },
  {
   "cell_type": "code",
   "execution_count": null,
   "metadata": {},
   "outputs": [],
   "source": [
    "xs = [3, 1, 2]                # Определение массива\n",
    "print(xs, xs[2])              # Печатает весь массив и его последний лемент\n",
    "list_range = list(range(5))   # range(n) создает набор из целых чисел от 0 до n-1\n",
    "print(list_range)             # Выводит \"[0, 1, 2, 3, 4]\"\n",
    "# Отрицательные индексы отсчитываются с конца\n",
    "print(xs[-1])     # Печатает последний элемент списка\n",
    "xs[2] = 'foo'     # Присваеваем последнему элементу строковую константу\n",
    "print(xs)         # Выводит \"[3, 1, 'foo']\"\n",
    "xs.append('bar')  # Добавляет новый лемент в конец списка\n",
    "print(xs)         # Выводит \"[3, 1, 'foo', 'bar']\"\n",
    "x = xs.pop()      # Удаляет и возвращает последний элемент из списка\n",
    "print(x, xs)      # Выводит \"bar [3, 1, 'foo']\""
   ]
  },
  {
   "cell_type": "markdown",
   "metadata": {},
   "source": [
    "<h4>\"Срезы\"</h4>\n",
    "<p>Python позволяет легко выделять и работать с частями массивов</p>"
   ]
  },
  {
   "cell_type": "code",
   "execution_count": null,
   "metadata": {},
   "outputs": [],
   "source": [
    "nums = list(range(5))     # Создает массив [0, 1, 2, 3, 4]\n",
    "print(nums)               # Выводит \"[0, 1, 2, 3, 4]\"\n",
    "print(nums[2:4])          # Срез от 2-ого элемента до 4-ого (невключительно); выводит \"[2, 3]\"\n",
    "print(nums[2:])           # Срез от 2-ого элемента до конца; выводит \"[2, 3, 4]\"\n",
    "print(nums[:3])           # Срез до 3-ого  элемента (невключительно); Выводит  \"[0, 1, 2]\"\n",
    "print(nums[:])            # Срез всех элементов массива; выводит \"[0, 1, 2, 3, 4]\"\n",
    "print(nums[:-1])          # Можно использовать отрицательные индексы; выводит \"[0, 1, 2, 3]\"\n",
    "nums[2:4] = [8, 9]        # Можно выполнять присваивания срезу\n",
    "print(nums)               # выводит \"[0, 1, 8, 9, 4]\""
   ]
  },
  {
   "cell_type": "markdown",
   "metadata": {},
   "source": [
    "<h4>Циклы</h4>"
   ]
  },
  {
   "cell_type": "markdown",
   "metadata": {},
   "source": [
    "Для последовательной обработки всех элементов используется цикл <b>for</b>:"
   ]
  },
  {
   "cell_type": "code",
   "execution_count": 109,
   "metadata": {},
   "outputs": [
    {
     "name": "stdout",
     "output_type": "stream",
     "text": [
      "кошка собака обезьяна "
     ]
    }
   ],
   "source": [
    "animals = ['кошка', 'собака', 'обезьяна']\n",
    "for animal in animals:\n",
    "    print(animal, end=\" \")  # выводит \"кошка собака обезьяна \", аргумент \"end\" задает символ конца строки"
   ]
  },
  {
   "cell_type": "markdown",
   "metadata": {},
   "source": [
    "<p>Если необходим кроме значения самого элемента необходим и его индекс, то можно воспользоваться <b>enumerate</b>:"
   ]
  },
  {
   "cell_type": "code",
   "execution_count": 108,
   "metadata": {},
   "outputs": [
    {
     "name": "stdout",
     "output_type": "stream",
     "text": [
      "1: кошка 2: собака 3: обезьяна "
     ]
    }
   ],
   "source": [
    "animals = ['кошка', 'собака', 'обезьяна']\n",
    "for idx, animal in enumerate(animals):\n",
    "    print('{}: {}'.format(idx + 1, animal),end=\" \")  # выводит \"1: кошка 2: собака 3: обезьяна \""
   ]
  },
  {
   "cell_type": "markdown",
   "metadata": {},
   "source": [
    "<h4>List comrehension</h4>"
   ]
  },
  {
   "cell_type": "markdown",
   "metadata": {},
   "source": [
    "<p>Часто необходимо выполнить преобразование над всем списком. Например мы хотим вычислить квадраты всех элементов:</p>"
   ]
  },
  {
   "cell_type": "code",
   "execution_count": null,
   "metadata": {},
   "outputs": [],
   "source": [
    "nums = [0, 1, 2, 3, 4]\n",
    "squares = []\n",
    "for x in nums:\n",
    "    squares.append(x ** 2) #добавляем элемент в массив квадратов\n",
    "print(squares)   # выводит [0, 1, 4, 9, 16]"
   ]
  },
  {
   "cell_type": "markdown",
   "metadata": {},
   "source": [
    "<p>В Python эту операцию можно сделать проще спомощью \"<b>list comprehension</b>\":</p>"
   ]
  },
  {
   "cell_type": "code",
   "execution_count": null,
   "metadata": {},
   "outputs": [],
   "source": [
    "nums = [0, 1, 2, 3, 4]\n",
    "squares = [x ** 2 for x in nums] # заполняем массив квадратов \n",
    "print(squares)   # выводит [0, 1, 4, 9, 16]"
   ]
  },
  {
   "cell_type": "markdown",
   "metadata": {},
   "source": [
    "<p>В \"<b>list comprehension</b>\" можно использовать условные выражения:</p>"
   ]
  },
  {
   "cell_type": "code",
   "execution_count": 99,
   "metadata": {},
   "outputs": [
    {
     "name": "stdout",
     "output_type": "stream",
     "text": [
      "[0, 4, 16]\n",
      "[0, 1, 4, 27, 16]\n"
     ]
    }
   ],
   "source": [
    "nums = [0, 1, 2, 3, 4]\n",
    "even_squares = [x ** 2 for x in nums if x % 2 == 0] # добавляем элемент только если выполненно условие\n",
    "print(even_squares)  # выводит \"[0, 4, 16]\"\n",
    "even_squares_odd_cubes = [x ** 2 if x % 2 == 0 else x**3 for x in nums] \n",
    "print(even_squares_odd_cubes)  # выводит \"[0, 1, 4, 27, 16]\""
   ]
  },
  {
   "cell_type": "markdown",
   "metadata": {},
   "source": [
    "<h3>Задание</h3>\n",
    "<p>Выведите список из 100 чисел через запятую. Чистыми циклами пользоваться нельзя. (list comprehensions можно)</p>"
   ]
  },
  {
   "cell_type": "code",
   "execution_count": null,
   "metadata": {},
   "outputs": [],
   "source": []
  },
  {
   "cell_type": "markdown",
   "metadata": {},
   "source": [
    "<h4>Сортировка списков</h4>\n",
    "<p>Метод sort(): сортирует список (по умолчанию - по возрастанию). Все элементы должны быть сравнимы - для каждой пары должен быть  оператор \"<\". </p>"
   ]
  },
  {
   "cell_type": "code",
   "execution_count": 105,
   "metadata": {},
   "outputs": [
    {
     "name": "stdout",
     "output_type": "stream",
     "text": [
      "[-2, 1, 1, 2, 3, 4, 5, 6, 9]\n"
     ]
    }
   ],
   "source": [
    "unsorted_list = [3, 5, 1, -2, 9, 6, 1, 2, 4]\n",
    "unsorted_list.sort()\n",
    "print(unsorted_list)"
   ]
  },
  {
   "cell_type": "markdown",
   "metadata": {},
   "source": [
    "<p>Для сортировки по убыванию используется аргумент reverse:"
   ]
  },
  {
   "cell_type": "code",
   "execution_count": 107,
   "metadata": {},
   "outputs": [
    {
     "name": "stdout",
     "output_type": "stream",
     "text": [
      "[9, 6, 5, 4, 3, 2, 1, 1, -2]\n"
     ]
    }
   ],
   "source": [
    "unsorted_list = [3, 5, 1, -2, 9, 6, 1, 2, 4]\n",
    "unsorted_list.sort(reverse=True)\n",
    "print(unsorted_list)"
   ]
  },
  {
   "cell_type": "markdown",
   "metadata": {},
   "source": [
    "<p>Функция sorted(): возвращает отсортированный список. Исходный список не изменяется</p>"
   ]
  },
  {
   "cell_type": "code",
   "execution_count": 106,
   "metadata": {},
   "outputs": [
    {
     "name": "stdout",
     "output_type": "stream",
     "text": [
      "[3, 5, 1, -2, 9, 6, 1, 2, 4] [-2, 1, 1, 2, 3, 4, 5, 6, 9]\n"
     ]
    }
   ],
   "source": [
    "unsorted_list = [3, 5, 1, -2, 9, 6, 1, 2, 4]\n",
    "sorted_list = sorted(unsorted_list)\n",
    "print(unsorted_list, sorted_list)"
   ]
  },
  {
   "cell_type": "markdown",
   "metadata": {},
   "source": [
    "<h3>Функции enumerate, zip</h3>\n",
    "<p><b>enumerate</b> - выдает пару номер - элемент</p>\n",
    "<p><b>zip</b> - объединяет элементы нескольких списков</p> "
   ]
  },
  {
   "cell_type": "code",
   "execution_count": 156,
   "metadata": {},
   "outputs": [
    {
     "name": "stdout",
     "output_type": "stream",
     "text": [
      "(0, 11)\n",
      "(1, 12)\n",
      "(2, 13)\n",
      "(3, 14)\n",
      "(4, 15)\n",
      "(5, 16)\n",
      "(6, 17)\n",
      "(7, 18)\n",
      "(8, 19)\n"
     ]
    }
   ],
   "source": [
    "a = list(range(10)) # список от 0 до 9\n",
    "b = list(range(11,20)) #список от 11 до 19\n",
    "for elem in zip(a,b):\n",
    "    print(elem)"
   ]
  },
  {
   "cell_type": "code",
   "execution_count": 157,
   "metadata": {},
   "outputs": [
    {
     "name": "stdout",
     "output_type": "stream",
     "text": [
      "(0, 11)\n",
      "(1, 12)\n",
      "(2, 13)\n",
      "(3, 14)\n",
      "(4, 15)\n",
      "(5, 16)\n",
      "(6, 17)\n",
      "(7, 18)\n",
      "(8, 19)\n"
     ]
    }
   ],
   "source": [
    "for elem in enumerate(b):\n",
    "    print(elem) # печатает номер и значение элемента"
   ]
  },
  {
   "cell_type": "markdown",
   "metadata": {},
   "source": [
    "<h3>Задание</h3>\n",
    "<p>Создайте два любых списка одинакового размера.\n",
    "Выведите нумерованный список пар из элементов этих списков.</p>"
   ]
  },
  {
   "cell_type": "code",
   "execution_count": null,
   "metadata": {},
   "outputs": [],
   "source": []
  },
  {
   "cell_type": "markdown",
   "metadata": {},
   "source": [
    "<h3 style=\"text-align:center\"> Dictionary</h3>\n",
    "<p>Словари. Содержат пары вида ключ:значение</p>\n",
    "<p>Позволяют быстро проверять содержится ли ключ в словаре (за O(1) в среднем)</p>    "
   ]
  },
  {
   "cell_type": "code",
   "execution_count": 97,
   "metadata": {},
   "outputs": [
    {
     "name": "stdout",
     "output_type": "stream",
     "text": [
      "мяукает\n",
      "True\n",
      "молчит\n",
      "N/A\n",
      "молчит\n",
      "N/A\n"
     ]
    }
   ],
   "source": [
    "d = {'кошка': 'мяукает', 'собака': 'лает'}  # создаем словарь \n",
    "print(d['кошка'])       # доступ к значению по заданному ключу; выводит \"мяукает\"\n",
    "print('кошка' in d)     # Проверяет содержится ли такой ключ в словаре; выводит \"True\"\n",
    "d['рыба'] = 'молчит'     # Устанавливает значения для заданного ключа\n",
    "print(d['рыба'])      # выводит \"молчит\"\n",
    "# print(d['обезьяна'])  # KeyError: 'обезьяна' not a key of d - ошибка, так как такого ключа нет в словаре\n",
    "print(d.get('обезьяна', 'N/A'))  # Задаем стандартное значение при отсутствии ключа; выводит \"N/A\"\n",
    "print(d.get('рыба', 'N/A'))    # Задаем стандартное значение при отсутствии ключа; выводит \"молчит\"\n",
    "del d['рыба']         # удаляем пару ключ-значение из словаря\n",
    "print(d.get('рыба', 'N/A')) # ключа \"рыба\" больше нет в словаре; выводит \"N/A\""
   ]
  },
  {
   "cell_type": "markdown",
   "metadata": {},
   "source": [
    "<p>Для перебора всех пар ключ-значение словоря можно использовать циклы:</p>"
   ]
  },
  {
   "cell_type": "code",
   "execution_count": 96,
   "metadata": {},
   "outputs": [
    {
     "name": "stdout",
     "output_type": "stream",
     "text": [
      "\"человек\" содержится в словаре\n",
      "\"кот\" содержится в словаре\n",
      "\"паук\" содержится в словаре\n"
     ]
    }
   ],
   "source": [
    "d = {'человек': 2, 'кот': 4, 'паук': 8}\n",
    "for animal in d:\n",
    "    print(\"\\\"\"+animal+\"\\\" содержится в словаре\") \n",
    "# Выводит \"\"человек\" содержится в словаре\", \"\"кот\" содержится в словаре\", \"\"паук\" содержится в словаре\""
   ]
  },
  {
   "cell_type": "markdown",
   "metadata": {},
   "source": [
    "items() - возвращает набор пар ключ-значение:"
   ]
  },
  {
   "cell_type": "code",
   "execution_count": 113,
   "metadata": {},
   "outputs": [
    {
     "name": "stdout",
     "output_type": "stream",
     "text": [
      "человек - 2 ног(и)\n",
      "кот - 4 ног(и)\n",
      "паук - 8 ног(и)\n"
     ]
    }
   ],
   "source": [
    "d = {'человек': 2, 'кот': 4, 'паук': 8}\n",
    "for animal, legs in d.items():\n",
    "    print(\"{} - {} ног(и)\".format(animal, legs))\n",
    "# выводит \"человек - 2 ног(и)\", \"кот - 4 ног(и)\", \"паук - 8 ног(и)\""
   ]
  },
  {
   "cell_type": "markdown",
   "metadata": {},
   "source": [
    "keys() - возвращает набор ключей:"
   ]
  },
  {
   "cell_type": "code",
   "execution_count": null,
   "metadata": {},
   "outputs": [],
   "source": [
    "d = {'человек': 2, 'кот': 4, 'паук': 8}\n",
    "for animal in d.keys():\n",
    "    print(\"{}\".format(animal))\n",
    "# выводит \"человек\", \"кот\", \"паук\""
   ]
  },
  {
   "cell_type": "markdown",
   "metadata": {},
   "source": [
    "values() - возвращает набор пар ключ-значение:"
   ]
  },
  {
   "cell_type": "code",
   "execution_count": null,
   "metadata": {},
   "outputs": [],
   "source": [
    "d = {'человек': 2, 'кот': 4, 'паук': 8}\n",
    "for legs in d.values():\n",
    "    print(\"{} ног(и)\".format(legs))\n",
    "# выводит \"2 ног(и)\", \"4 ног(и)\", \"8 ног(и)\""
   ]
  },
  {
   "cell_type": "markdown",
   "metadata": {},
   "source": [
    "<h4>Dict comprhension</h4>\n",
    "<p>Со словарями также можно использовать \"comprehension\":"
   ]
  },
  {
   "cell_type": "code",
   "execution_count": null,
   "metadata": {},
   "outputs": [],
   "source": [
    "names = [\"Аня\", \"Богдан\", \"Вика\", \"Гоша\", \"Даня\"]\n",
    "my_dict = {x:names[x] for x in range(5)}\n",
    "print(my_dict) # выводит \"{0: 'Аня', 1: 'Богдан', 2: 'Вика', 3: 'Гоша', 4: 'Даня'}\""
   ]
  },
  {
   "cell_type": "markdown",
   "metadata": {},
   "source": [
    "<h2 style=\"text-align:center\">Множества (Set)</h2>\n",
    "<p>Множества используются для хранения уникальных значений и быстрой проверки (в среднем за O(1)) входит ли какое-либо значение в множество или нет</p>"
   ]
  },
  {
   "cell_type": "code",
   "execution_count": null,
   "metadata": {},
   "outputs": [],
   "source": [
    "s = {1, 2, 3} # задаем множество\n",
    "print(s,\" \", type(s)) # выводит \"{1, 2, 3}   <class 'set'>\"\n",
    "# для проверки наличия элемента в множестве используется оператор \"in\"\n",
    "print(1 in s) # проверяем есть ли \"1\" в множестве, выводит \"True\"\n",
    "print(0 in s) # проверяем есть ли \"0\" в множестве, выводит \"False\"\n",
    "s.add(4) # добавляем новый элемент в множество\n",
    "print(s) # выводит \"{1, 2, 3, 4}\"\n",
    "s.add(3) # пробуем добавить уже имеющийся элемент - множество не меняется\n",
    "print(s) # выводит \"{1, 2, 3, 4}\"\n",
    "s.remove(2) # удаляем элемент из множества\n",
    "print(s) # выводит \"{1, 3, 4}\"\n",
    "# s.remove(5) # при попытке удалить отсутствующий элемент выбрасывает ошибку KeyError"
   ]
  },
  {
   "cell_type": "markdown",
   "metadata": {},
   "source": [
    "<p>Для перебора всех элементов множеств можно использовать цикл <b>for</b>:</p>"
   ]
  },
  {
   "cell_type": "code",
   "execution_count": null,
   "metadata": {},
   "outputs": [],
   "source": [
    "for elem in s:\n",
    "    print(elem, end=' ') # выводит \"1 3 4\""
   ]
  },
  {
   "cell_type": "markdown",
   "metadata": {},
   "source": [
    "<p>Для множеств определены стандартные операции; объединение: пересечение и другие</p>"
   ]
  },
  {
   "cell_type": "code",
   "execution_count": null,
   "metadata": {},
   "outputs": [],
   "source": [
    "s1 = {1, 2, 3}\n",
    "s2 = {2, 3, 4}\n",
    "print(s1.intersection(s2)) # пересечение множеств s1 и s2; выводит (\"{2, 3}\")\n",
    "print(s1.union(s2)) # объединение множеств s1 и s2; выводит (\"{1, 2, 3, 4}\")"
   ]
  },
  {
   "cell_type": "markdown",
   "metadata": {},
   "source": [
    "<p>Другие операции можно посмотреть, напечатав название множество, поставив точку и нажав \"Tab\", или, например, здесь: <a href=\"https://pythontutor.ru/lessons/sets/\">Множества</a></p>"
   ]
  },
  {
   "cell_type": "markdown",
   "metadata": {},
   "source": [
    "<h4>Set comprehension</h4>\n",
    "<p>Множества также поддерживают \"comprehension\":</p>"
   ]
  },
  {
   "cell_type": "code",
   "execution_count": null,
   "metadata": {},
   "outputs": [],
   "source": [
    "s = {x for x in range(1,10)}\n",
    "print(s) # выводит \"{1, 2, 3, 4, 5, 6, 7, 8, 9}\""
   ]
  },
  {
   "cell_type": "markdown",
   "metadata": {},
   "source": [
    "<h2 style=\"text-align:center\">Кортежи (tuple)</h2>\n",
    "<p>A tuple is an (immutable) ordered list of values. A tuple is in many ways similar to a list; one of the most important differences is that tuples can be used as keys in dictionaries and as elements of sets, while lists cannot. Here is a trivial example:</p>\n",
    "<p>Кортеж - (неизменяемый) набор элементов. Во многом похожи на списки; из-за того что кортежи не изменяемые, они могут использоваться в качестве ключей в словарях и как элементы множеств. Например:</p>\n"
   ]
  },
  {
   "cell_type": "code",
   "execution_count": null,
   "metadata": {},
   "outputs": [],
   "source": [
    "t = (5, 6)        # создаем кортеж\n",
    "print(type(t))    # выводит \"<class 'tuple'>\"\n",
    "print(t[0])    # выводит \"5\"\n",
    "# используем кортежи, как ключи для словарей\n",
    "d = {(x, x + 1): x for x in range(10)} \n",
    "print(d[t])       # выводит \"5\"\n",
    "print(d[(1, 2)])  # выводит \"1\""
   ]
  },
  {
   "cell_type": "code",
   "execution_count": null,
   "metadata": {},
   "outputs": [],
   "source": []
  },
  {
   "cell_type": "markdown",
   "metadata": {},
   "source": [
    "<h2 style=\"text-align:center\">Функции</h2>"
   ]
  },
  {
   "cell_type": "markdown",
   "metadata": {},
   "source": [
    "Для определение функции используется ключевое слово <b>def</b>. Возврат значения  - оператор <b>return</b>."
   ]
  },
  {
   "cell_type": "code",
   "execution_count": 46,
   "metadata": {},
   "outputs": [
    {
     "data": {
      "text/plain": [
       "200"
      ]
     },
     "execution_count": 46,
     "metadata": {},
     "output_type": "execute_result"
    }
   ],
   "source": [
    "def meters_to_cm(m):\n",
    "    return m * 100\n",
    "\n",
    "meters_to_cm(2)"
   ]
  },
  {
   "cell_type": "markdown",
   "metadata": {},
   "source": [
    "<p>Функция может возвращать несколько значений:</p>"
   ]
  },
  {
   "cell_type": "code",
   "execution_count": 131,
   "metadata": {},
   "outputs": [
    {
     "name": "stdout",
     "output_type": "stream",
     "text": [
      "1000 10000 10000000000\n"
     ]
    }
   ],
   "source": [
    "def meters_to_other(m):\n",
    "    cm = m * 100\n",
    "    mm = m * 1000\n",
    "    nm = m * 10**9\n",
    "    return cm, mm, nm\n",
    "cm, mm, nn = meters_to_other(10)\n",
    "print(cm, mm, nn)"
   ]
  },
  {
   "cell_type": "markdown",
   "metadata": {},
   "source": [
    "<h4>Аргументы функции:</h4>\n",
    "<p></p>"
   ]
  },
  {
   "cell_type": "code",
   "execution_count": null,
   "metadata": {},
   "outputs": [],
   "source": [
    "# можно задавать значение аргументов по умолчанию\n",
    "def linear(x, a, b=1):\n",
    "    return a * x + b\n",
    "print(linear(1, 2)) # выводит 3; (2*1+1=3) для b используется значение по умолчанию\n",
    "print(linear(1, 2, 4)) # выводит 6; (2*1+4=6)для b используется указанное значение"
   ]
  },
  {
   "cell_type": "code",
   "execution_count": 50,
   "metadata": {},
   "outputs": [
    {
     "data": {
      "text/plain": [
       "8"
      ]
     },
     "execution_count": 50,
     "metadata": {},
     "output_type": "execute_result"
    }
   ],
   "source": [
    "# \"непрвильно\":  аргумент со значением по умолчанию идет перед аргументами без значений по умолчанию\n",
    "# def quadratic(x, a=1, b, c): \n",
    "# вызовет ошибку\n",
    "\n",
    "# \"првильно\": начиная с аргумена \"a\" все аргументы имеют значение по умолчанию\n",
    "def quadratic(x, a=1, b=1, c=1):\n",
    "    val = a * x ** 2 + b * x + c\n",
    "    return val\n",
    "\n",
    "# использование:\n",
    "quadratic(1) # a, b и с равны значениям по умолчанию\n",
    "quadratic(1, 2) # b и с равны значениям по умолчанию\n",
    "quadratic(1, 2, 3, 4) # значения всех аргументов заданы явно\n",
    "quadratic(1, b=3) # используем имя аргумента; a и с равны значениям по умолчанию\n",
    "quadratic(1, a=4, c=3) #  используем имена аргументов; b равно значению по умолчанию"
   ]
  },
  {
   "cell_type": "markdown",
   "metadata": {},
   "source": [
    "<p>Можно определять функции с переменным количеством аргументов. Подробнее можно почитать, например здесь: <a href=\"https://pythonworld.ru/tipy-dannyx-v-python/vse-o-funkciyax-i-ix-argumentax.html\">аргументы функции</a></p>"
   ]
  },
  {
   "cell_type": "markdown",
   "metadata": {},
   "source": [
    "<h3 style=\"text-align:center\">Lambda</h3>\n",
    "<p>Lambda - анонимные функции (функции без имени). Удобно использовать когда функция необходима одни раз и нет необходимости в полном определении.</p>\n",
    "<p>Синтаксис:</p>\n",
    "<b>lambda</b> arguments: operators    "
   ]
  },
  {
   "cell_type": "code",
   "execution_count": null,
   "metadata": {},
   "outputs": [],
   "source": [
    "# Вычисление куба числа:\n",
    "# x - входные параметры, после двоеточия - выражение для результата\n",
    "cube = lambda x: x ** 3 \n",
    "# использование\n",
    "cube(3)"
   ]
  },
  {
   "cell_type": "markdown",
   "metadata": {},
   "source": [
    "Удобно использовать для задания функции сравненя элементов при сортировке:"
   ]
  },
  {
   "cell_type": "code",
   "execution_count": 133,
   "metadata": {},
   "outputs": [
    {
     "name": "stdout",
     "output_type": "stream",
     "text": [
      "[9, 8, 7, 6, 5, 4, 3, 2, 1, 0]\n"
     ]
    }
   ],
   "source": [
    "my_list = list(range(10))\n",
    "my_list.sort(key = lambda x: -x) # сравниваться будут элементы со знаком минус => отсортирует по убыванию\n",
    "print(my_list)"
   ]
  },
  {
   "cell_type": "markdown",
   "metadata": {},
   "source": [
    "<h4>Задание №5</h4>\n",
    "Создайте список из натуральных чисел от -5 до 5 и отсортируйте их по возрастанию модуля."
   ]
  },
  {
   "cell_type": "markdown",
   "metadata": {},
   "source": [
    "<h3 style=\"text-align:center\">Обработка итерируемых объектов</h3>\n",
    "<p> list, dictionary, set, tuple и другие обекты являются итерируемыми. Для обработки таких объектов существует несколько специальных функций.</p>"
   ]
  },
  {
   "cell_type": "markdown",
   "metadata": {},
   "source": [
    "<h4>Оператор <b>map</b></h4>\n",
    "<p>Применяет заданную функцию ко всем элементам итерируемого объекта:</p>"
   ]
  },
  {
   "cell_type": "code",
   "execution_count": 83,
   "metadata": {},
   "outputs": [
    {
     "name": "stdout",
     "output_type": "stream",
     "text": [
      "Расстояние в километрах:  [0.0, 1.609, 3.218, 8.045, 19.308, 27.353, 30.570999999999998]\n",
      "Расстояние в километрах после округления:  [0.0, 1.61, 3.22, 8.04, 19.31, 27.35, 30.57]\n",
      "Расстояние в километрах отформатированное: ['0.0', '1.609', '3.218', '8.045', '19.308', '27.353', '30.570999999999998']\n"
     ]
    }
   ],
   "source": [
    "# перевод миль в километры\n",
    "# 1 миля = 1,609 километра\n",
    "distance_miles = [0, 1, 2, 5, 12, 17, 19]\n",
    "distance_km = list(map(lambda x: x*1.609, distance_miles))\n",
    "print(\"Расстояние в километрах: \", distance_km)\n",
    "\n",
    "# Выглядит \"плохо\". Исправим:\n",
    "\n",
    "# Можем округлить:\n",
    "distance_rounds = list(map(lambda x: round(x, 2), distance_km))\n",
    "print(\"Расстояние в километрах после округления: \", distance_rounds)\n",
    "\n",
    "# Либо преобразовать числа в строки с двумя знаками после запятой:\n",
    "\n",
    "#TODO\n",
    "\n",
    "distance_strs = list(map(lambda x:\"{}\".format(x), distance_km))\n",
    "print(\"Расстояние в километрах отформатированное:\", distance_strs)"
   ]
  },
  {
   "cell_type": "markdown",
   "metadata": {},
   "source": [
    "<h4> Задание №6</h4>\n",
    "<p>Дан список значений температуры в градусах Цельсия. Перевести температуры в градусы Фаренгейта. Использовать простые циклы нельзя. Используйте оператор <b>map</b> и lambda - выражения.</p>\n",
    "T°(Ф) = T°(C)*9/5 + 32\n",
    "<p> Результаты округлить до двух знаков после запятой</p>"
   ]
  },
  {
   "cell_type": "code",
   "execution_count": null,
   "metadata": {},
   "outputs": [],
   "source": [
    "celsius = [-30, -15, 0, 20, 25, 30, 36.6, 100]\n",
    "# ваш код здесь"
   ]
  },
  {
   "cell_type": "markdown",
   "metadata": {},
   "source": [
    "<h4>Оператор reduce</h4>\n",
    "<p>Используется для последовательного выполнения операций над элементами применяет операцию к двум элементам последовательности и заменяет их на результат, операция применяется, пока в последовательности не остагнется 1 элемент:</p>"
   ]
  },
  {
   "cell_type": "code",
   "execution_count": null,
   "metadata": {},
   "outputs": [],
   "source": [
    "from functools import reduce\n",
    "# вычислим произведение элементов списка\n",
    "arr = [1, 2, 4, 3]\n",
    "res = reduce(lambda x, y: x*y, arr)\n",
    "print(res)\n",
    "# вычисляет сумму элементов, преобразованных в int\n",
    "arr = [\"1\", \"3\", \"5\", \"7\"]\n",
    "res = reduce(lambda x, y: int(x)+int(y), arr)\n",
    "print(res)"
   ]
  },
  {
   "cell_type": "markdown",
   "metadata": {},
   "source": [
    "<h3 style=\"text-align:center\"> Модули</h3>\n",
    "<p>Модули - это \"библиотеки\" Python. То есть это самостоятельные, объединённые технически и логически, именованные части Python кода</p>\n",
    "<p>Перед использование модуль необходимо импортировать:</p>"
   ]
  },
  {
   "cell_type": "code",
   "execution_count": 141,
   "metadata": {},
   "outputs": [],
   "source": [
    "import collections"
   ]
  },
  {
   "cell_type": "markdown",
   "metadata": {},
   "source": [
    "Часто достаточно импортиорвать только часть модуля:"
   ]
  },
  {
   "cell_type": "code",
   "execution_count": 142,
   "metadata": {},
   "outputs": [],
   "source": [
    "from collections import Counter"
   ]
  },
  {
   "cell_type": "markdown",
   "metadata": {},
   "source": [
    "Удобно давать модулям краткие имена:"
   ]
  },
  {
   "cell_type": "code",
   "execution_count": 144,
   "metadata": {},
   "outputs": [],
   "source": [
    "import numpy as np"
   ]
  },
  {
   "cell_type": "markdown",
   "metadata": {},
   "source": [
    "Использование импортированных модулей:"
   ]
  },
  {
   "cell_type": "code",
   "execution_count": 146,
   "metadata": {},
   "outputs": [],
   "source": [
    "arr = np.array(range(10)) #вызываем метод array из модуля np"
   ]
  },
  {
   "cell_type": "markdown",
   "metadata": {},
   "source": [
    "<h3 style=\"text-align:center\">Классы</h3>"
   ]
  },
  {
   "cell_type": "code",
   "execution_count": 110,
   "metadata": {},
   "outputs": [],
   "source": [
    "class A:\n",
    "    # конструктор класса\n",
    "    # поля класса определяются в конструкторе\n",
    "    def __init__(self, a, b):\n",
    "        self.a = a \n",
    "        self.b = b\n",
    "    # каждый метод должен иметь первым аргументом self\n",
    "    def summation(self):\n",
    "        return self.a + self.b"
   ]
  },
  {
   "cell_type": "code",
   "execution_count": 111,
   "metadata": {},
   "outputs": [
    {
     "name": "stdout",
     "output_type": "stream",
     "text": [
      "3\n"
     ]
    }
   ],
   "source": [
    "a = A(1, 2)\n",
    "print(a.summation())"
   ]
  },
  {
   "cell_type": "code",
   "execution_count": null,
   "metadata": {},
   "outputs": [],
   "source": [
    "# наследование\n",
    "class B(A):\n",
    "    # конструктор класса\n",
    "    # поля класса определяются в конструкторе\n",
    "    def __init__(self, a, b):\n",
    "        super().__init__(self)\n",
    "        self.a = a         \n",
    "        self.b = b\n",
    "    # каждый метод должен иметь первым аргументом self\n",
    "    def multiplication(self):\n",
    "        return self.a * self.b"
   ]
  }
 ],
 "metadata": {
  "kernelspec": {
   "display_name": "Python [conda env:Miniconda35-x64]",
   "language": "python",
   "name": "conda-env-Miniconda35-x64-py"
  },
  "language_info": {
   "codemirror_mode": {
    "name": "ipython",
    "version": 3
   },
   "file_extension": ".py",
   "mimetype": "text/x-python",
   "name": "python",
   "nbconvert_exporter": "python",
   "pygments_lexer": "ipython3",
   "version": "3.6.4"
  }
 },
 "nbformat": 4,
 "nbformat_minor": 2
}
